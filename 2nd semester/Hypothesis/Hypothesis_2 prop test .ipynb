{
 "cells": [
  {
   "cell_type": "code",
   "execution_count": 1,
   "metadata": {},
   "outputs": [
    {
     "ename": "ModuleNotFoundError",
     "evalue": "No module named 'numpy'",
     "output_type": "error",
     "traceback": [
      "\u001b[1;31m---------------------------------------------------------------------------\u001b[0m",
      "\u001b[1;31mModuleNotFoundError\u001b[0m                       Traceback (most recent call last)",
      "Cell \u001b[1;32mIn [1], line 2\u001b[0m\n\u001b[0;32m      1\u001b[0m \u001b[39m######### 2-proportion test ###########\u001b[39;00m\n\u001b[1;32m----> 2\u001b[0m \u001b[39mimport\u001b[39;00m \u001b[39mnumpy\u001b[39;00m \u001b[39mas\u001b[39;00m \u001b[39mnp\u001b[39;00m\n\u001b[0;32m      3\u001b[0m \u001b[39mimport\u001b[39;00m \u001b[39mpandas\u001b[39;00m \u001b[39mas\u001b[39;00m \u001b[39mpd\u001b[39;00m\n",
      "\u001b[1;31mModuleNotFoundError\u001b[0m: No module named 'numpy'"
     ]
    }
   ],
   "source": [
    "######### 2-proportion test ###########\n",
    "import numpy as np\n",
    "import pandas as pd\n",
    "\n",
    "#H0: Proportion(A)=Proportion(B)\n",
    "#Ha: Proportion(A) not equals to Proportion(B)"
   ]
  },
  {
   "cell_type": "code",
   "execution_count": 7,
   "metadata": {},
   "outputs": [
    {
     "data": {
      "text/html": [
       "<div>\n",
       "<style scoped>\n",
       "    .dataframe tbody tr th:only-of-type {\n",
       "        vertical-align: middle;\n",
       "    }\n",
       "\n",
       "    .dataframe tbody tr th {\n",
       "        vertical-align: top;\n",
       "    }\n",
       "\n",
       "    .dataframe thead th {\n",
       "        text-align: right;\n",
       "    }\n",
       "</style>\n",
       "<table border=\"1\" class=\"dataframe\">\n",
       "  <thead>\n",
       "    <tr style=\"text-align: right;\">\n",
       "      <th></th>\n",
       "      <th>Person</th>\n",
       "      <th>Drinks</th>\n",
       "    </tr>\n",
       "  </thead>\n",
       "  <tbody>\n",
       "    <tr>\n",
       "      <th>0</th>\n",
       "      <td>Adults</td>\n",
       "      <td>Did Not Purchase</td>\n",
       "    </tr>\n",
       "    <tr>\n",
       "      <th>1</th>\n",
       "      <td>Adults</td>\n",
       "      <td>Did Not Purchase</td>\n",
       "    </tr>\n",
       "    <tr>\n",
       "      <th>2</th>\n",
       "      <td>Adults</td>\n",
       "      <td>Did Not Purchase</td>\n",
       "    </tr>\n",
       "    <tr>\n",
       "      <th>3</th>\n",
       "      <td>Adults</td>\n",
       "      <td>Did Not Purchase</td>\n",
       "    </tr>\n",
       "    <tr>\n",
       "      <th>4</th>\n",
       "      <td>Adults</td>\n",
       "      <td>Did Not Purchase</td>\n",
       "    </tr>\n",
       "  </tbody>\n",
       "</table>\n",
       "</div>"
      ],
      "text/plain": [
       "   Person            Drinks\n",
       "0  Adults  Did Not Purchase\n",
       "1  Adults  Did Not Purchase\n",
       "2  Adults  Did Not Purchase\n",
       "3  Adults  Did Not Purchase\n",
       "4  Adults  Did Not Purchase"
      ]
     },
     "execution_count": 7,
     "metadata": {},
     "output_type": "execute_result"
    }
   ],
   "source": [
    "two_prop_test = pd.read_excel(\"JohnyTalkers.xlsx\")\n",
    "two_prop_test.head()\n"
   ]
  },
  {
   "cell_type": "code",
   "execution_count": 9,
   "metadata": {},
   "outputs": [
    {
     "name": "stdout",
     "output_type": "stream",
     "text": [
      "['Did Not Purchase' 'Purchased'] ['Adults' 'Children']\n"
     ]
    }
   ],
   "source": [
    "print(two_prop_test.Drinks.unique(),two_prop_test.Person.unique())"
   ]
  },
  {
   "cell_type": "code",
   "execution_count": 10,
   "metadata": {},
   "outputs": [],
   "source": [
    "from statsmodels.stats.proportion import proportions_ztest\n",
    "\n"
   ]
  },
  {
   "cell_type": "code",
   "execution_count": 11,
   "metadata": {},
   "outputs": [
    {
     "data": {
      "text/plain": [
       "Children    740\n",
       "Adults      480\n",
       "Name: Person, dtype: int64"
      ]
     },
     "execution_count": 11,
     "metadata": {},
     "output_type": "execute_result"
    }
   ],
   "source": [
    "tab1 = two_prop_test.Person.value_counts()\n",
    "tab1\n"
   ]
  },
  {
   "cell_type": "code",
   "execution_count": 12,
   "metadata": {},
   "outputs": [
    {
     "data": {
      "text/plain": [
       "Did Not Purchase    1010\n",
       "Purchased            210\n",
       "Name: Drinks, dtype: int64"
      ]
     },
     "execution_count": 12,
     "metadata": {},
     "output_type": "execute_result"
    }
   ],
   "source": [
    "tab2 = two_prop_test.Drinks.value_counts()\n",
    "tab2\n"
   ]
  },
  {
   "cell_type": "code",
   "execution_count": 13,
   "metadata": {},
   "outputs": [
    {
     "data": {
      "text/html": [
       "<div>\n",
       "<style scoped>\n",
       "    .dataframe tbody tr th:only-of-type {\n",
       "        vertical-align: middle;\n",
       "    }\n",
       "\n",
       "    .dataframe tbody tr th {\n",
       "        vertical-align: top;\n",
       "    }\n",
       "\n",
       "    .dataframe thead th {\n",
       "        text-align: right;\n",
       "    }\n",
       "</style>\n",
       "<table border=\"1\" class=\"dataframe\">\n",
       "  <thead>\n",
       "    <tr style=\"text-align: right;\">\n",
       "      <th>Drinks</th>\n",
       "      <th>Did Not Purchase</th>\n",
       "      <th>Purchased</th>\n",
       "    </tr>\n",
       "    <tr>\n",
       "      <th>Person</th>\n",
       "      <th></th>\n",
       "      <th></th>\n",
       "    </tr>\n",
       "  </thead>\n",
       "  <tbody>\n",
       "    <tr>\n",
       "      <th>Adults</th>\n",
       "      <td>422</td>\n",
       "      <td>58</td>\n",
       "    </tr>\n",
       "    <tr>\n",
       "      <th>Children</th>\n",
       "      <td>588</td>\n",
       "      <td>152</td>\n",
       "    </tr>\n",
       "  </tbody>\n",
       "</table>\n",
       "</div>"
      ],
      "text/plain": [
       "Drinks    Did Not Purchase  Purchased\n",
       "Person                               \n",
       "Adults                 422         58\n",
       "Children               588        152"
      ]
     },
     "execution_count": 13,
     "metadata": {},
     "output_type": "execute_result"
    }
   ],
   "source": [
    "# crosstable table\n",
    "pd.crosstab(two_prop_test.Person, two_prop_test.Drinks)\n",
    "\n"
   ]
  },
  {
   "cell_type": "code",
   "execution_count": 14,
   "metadata": {},
   "outputs": [],
   "source": [
    "count = np.array([58, 152])\n",
    "nobs = np.array([480, 740])\n",
    "\n"
   ]
  },
  {
   "cell_type": "code",
   "execution_count": 17,
   "metadata": {},
   "outputs": [
    {
     "name": "stdout",
     "output_type": "stream",
     "text": [
      "-3.8227247718795447 0.00013198507287726183\n"
     ]
    }
   ],
   "source": [
    "stats, pval = proportions_ztest(count, nobs, alternative = 'two-sided') \n",
    "print(stats,pval)"
   ]
  },
  {
   "cell_type": "code",
   "execution_count": 18,
   "metadata": {},
   "outputs": [
    {
     "name": "stdout",
     "output_type": "stream",
     "text": [
      "Help on function proportions_ztest in module statsmodels.stats.proportion:\n",
      "\n",
      "proportions_ztest(count, nobs, value=None, alternative='two-sided', prop_var=False)\n",
      "    Test for proportions based on normal (z) test\n",
      "    \n",
      "    Parameters\n",
      "    ----------\n",
      "    count : {int, array_like}\n",
      "        the number of successes in nobs trials. If this is array_like, then\n",
      "        the assumption is that this represents the number of successes for\n",
      "        each independent sample\n",
      "    nobs : {int, array_like}\n",
      "        the number of trials or observations, with the same length as\n",
      "        count.\n",
      "    value : float, array_like or None, optional\n",
      "        This is the value of the null hypothesis equal to the proportion in the\n",
      "        case of a one sample test. In the case of a two-sample test, the\n",
      "        null hypothesis is that prop[0] - prop[1] = value, where prop is the\n",
      "        proportion in the two samples. If not provided value = 0 and the null\n",
      "        is prop[0] = prop[1]\n",
      "    alternative : str in ['two-sided', 'smaller', 'larger']\n",
      "        The alternative hypothesis can be either two-sided or one of the one-\n",
      "        sided tests, smaller means that the alternative hypothesis is\n",
      "        ``prop < value`` and larger means ``prop > value``. In the two sample\n",
      "        test, smaller means that the alternative hypothesis is ``p1 < p2`` and\n",
      "        larger means ``p1 > p2`` where ``p1`` is the proportion of the first\n",
      "        sample and ``p2`` of the second one.\n",
      "    prop_var : False or float in (0, 1)\n",
      "        If prop_var is false, then the variance of the proportion estimate is\n",
      "        calculated based on the sample proportion. Alternatively, a proportion\n",
      "        can be specified to calculate this variance. Common use case is to\n",
      "        use the proportion under the Null hypothesis to specify the variance\n",
      "        of the proportion estimate.\n",
      "    \n",
      "    Returns\n",
      "    -------\n",
      "    zstat : float\n",
      "        test statistic for the z-test\n",
      "    p-value : float\n",
      "        p-value for the z-test\n",
      "    \n",
      "    Examples\n",
      "    --------\n",
      "    >>> count = 5\n",
      "    >>> nobs = 83\n",
      "    >>> value = .05\n",
      "    >>> stat, pval = proportions_ztest(count, nobs, value)\n",
      "    >>> print('{0:0.3f}'.format(pval))\n",
      "    0.695\n",
      "    \n",
      "    >>> import numpy as np\n",
      "    >>> from statsmodels.stats.proportion import proportions_ztest\n",
      "    >>> count = np.array([5, 12])\n",
      "    >>> nobs = np.array([83, 99])\n",
      "    >>> stat, pval = proportions_ztest(count, nobs)\n",
      "    >>> print('{0:0.3f}'.format(pval))\n",
      "    0.159\n",
      "    \n",
      "    Notes\n",
      "    -----\n",
      "    This uses a simple normal test for proportions. It should be the same as\n",
      "    running the mean z-test on the data encoded 1 for event and 0 for no event\n",
      "    so that the sum corresponds to the count.\n",
      "    \n",
      "    In the one and two sample cases with two-sided alternative, this test\n",
      "    produces the same p-value as ``proportions_chisquare``, since the\n",
      "    chisquare is the distribution of the square of a standard normal\n",
      "    distribution.\n",
      "\n"
     ]
    }
   ],
   "source": [
    "\n",
    "help(proportions_ztest) \n"
   ]
  },
  {
   "cell_type": "code",
   "execution_count": 21,
   "metadata": {},
   "outputs": [
    {
     "name": "stdout",
     "output_type": "stream",
     "text": [
      "-3.8227247718795447 6.599253643863092e-05\n"
     ]
    }
   ],
   "source": [
    "\n",
    "stats, pval = proportions_ztest(count, nobs, alternative = 'smaller')\n",
    "print(stats,pval)  # Pvalue 0.999 "
   ]
  },
  {
   "cell_type": "markdown",
   "metadata": {},
   "source": [
    "#### Since the p-value .000006599253643863092<.05 Hence Ha will be considered ie Proportion(A) not equals to Proportion(B)"
   ]
  },
  {
   "cell_type": "code",
   "execution_count": null,
   "metadata": {},
   "outputs": [],
   "source": []
  }
 ],
 "metadata": {
  "kernelspec": {
   "display_name": "Python 3",
   "language": "python",
   "name": "python3"
  },
  "language_info": {
   "codemirror_mode": {
    "name": "ipython",
    "version": 3
   },
   "file_extension": ".py",
   "mimetype": "text/x-python",
   "name": "python",
   "nbconvert_exporter": "python",
   "pygments_lexer": "ipython3",
   "version": "3.10.5"
  },
  "vscode": {
   "interpreter": {
    "hash": "369f2c481f4da34e4445cda3fffd2e751bd1c4d706f27375911949ba6bb62e1c"
   }
  }
 },
 "nbformat": 4,
 "nbformat_minor": 4
}
