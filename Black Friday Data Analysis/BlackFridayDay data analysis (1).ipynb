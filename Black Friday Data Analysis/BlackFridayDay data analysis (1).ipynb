{
 "cells": [
  {
   "cell_type": "markdown",
   "id": "7d8f408a",
   "metadata": {},
   "source": [
    "<h1>Problem Statement </h1>\n",
    "<pre>\n",
    "A company wants to understand purchase pattern aginst various product of differnt categories. purchase summary of various customers for selected high volume products from last month. The data set also contains customer demographics (age, gender, marital status, city_type, stay_in_current_city), product details (product_id and product category) and Total purchase_amount from last month.\n",
    "\n",
    "<h2>Variable Use in DataSet</h2>\n",
    "$User_ID                     User ID      \n",
    "$Product_ID                  Product ID\n",
    "$Gender                      Sex of User\n",
    "$Age                         Age of bins\n",
    "$Occupation                  Occupation\n",
    "$Marital_Status              Marital Status    \n",
    "$City_Category\n",
    "$Stay_In_Current_City_Years  Number of years stay in current city\n",
    "$Product_Category_1           \n",
    "$Product_Category_2       \n",
    "$Product_Category_3 \n",
    "$Purchase                    Purchase Amount (Target Variable)\n",
    " \n",
    " \n",
    " \n",
    " \n",
    " "
   ]
  },
  {
   "cell_type": "markdown",
   "id": "70f2b092",
   "metadata": {},
   "source": [
    "<h2>Importing the libraries</h2>"
   ]
  },
  {
   "cell_type": "code",
   "execution_count": 1,
   "id": "7b63315d",
   "metadata": {
    "ExecuteTime": {
     "end_time": "2022-09-24T17:14:24.421595Z",
     "start_time": "2022-09-24T17:14:24.406584Z"
    }
   },
   "outputs": [],
   "source": [
    "import numpy as np\n",
    "import pandas as pd \n",
    "import matplotlib.pyplot as plt\n",
    "import seaborn as sns"
   ]
  },
  {
   "cell_type": "markdown",
   "id": "2cb6ff07",
   "metadata": {},
   "source": [
    "<h2> Defining DataaFrame</h2>"
   ]
  },
  {
   "cell_type": "code",
   "execution_count": 2,
   "id": "512bbbdb",
   "metadata": {
    "ExecuteTime": {
     "end_time": "2022-09-24T17:14:26.608931Z",
     "start_time": "2022-09-24T17:14:25.986375Z"
    }
   },
   "outputs": [],
   "source": [
    "\n",
    "data=pd.read_csv(\"train - train.csv\")"
   ]
  },
  {
   "cell_type": "markdown",
   "id": "1880658a",
   "metadata": {},
   "source": [
    "<h3>EDA -Exploratory Data Analysis</h3>"
   ]
  },
  {
   "cell_type": "code",
   "execution_count": 3,
   "id": "03b8a786",
   "metadata": {
    "ExecuteTime": {
     "end_time": "2022-09-24T17:14:28.309374Z",
     "start_time": "2022-09-24T17:14:28.279367Z"
    }
   },
   "outputs": [
    {
     "data": {
      "text/html": [
       "<div>\n",
       "<style scoped>\n",
       "    .dataframe tbody tr th:only-of-type {\n",
       "        vertical-align: middle;\n",
       "    }\n",
       "\n",
       "    .dataframe tbody tr th {\n",
       "        vertical-align: top;\n",
       "    }\n",
       "\n",
       "    .dataframe thead th {\n",
       "        text-align: right;\n",
       "    }\n",
       "</style>\n",
       "<table border=\"1\" class=\"dataframe\">\n",
       "  <thead>\n",
       "    <tr style=\"text-align: right;\">\n",
       "      <th></th>\n",
       "      <th>User_ID</th>\n",
       "      <th>Product_ID</th>\n",
       "      <th>Gender</th>\n",
       "      <th>Age</th>\n",
       "      <th>Occupation</th>\n",
       "      <th>City_Category</th>\n",
       "      <th>Stay_In_Current_City_Years</th>\n",
       "      <th>Marital_Status</th>\n",
       "      <th>Product_Category_1</th>\n",
       "      <th>Product_Category_2</th>\n",
       "      <th>Product_Category_3</th>\n",
       "      <th>Purchase</th>\n",
       "    </tr>\n",
       "  </thead>\n",
       "  <tbody>\n",
       "    <tr>\n",
       "      <th>0</th>\n",
       "      <td>1000001</td>\n",
       "      <td>P00069042</td>\n",
       "      <td>F</td>\n",
       "      <td>0-17</td>\n",
       "      <td>10</td>\n",
       "      <td>A</td>\n",
       "      <td>2</td>\n",
       "      <td>0</td>\n",
       "      <td>3</td>\n",
       "      <td>NaN</td>\n",
       "      <td>NaN</td>\n",
       "      <td>8370</td>\n",
       "    </tr>\n",
       "    <tr>\n",
       "      <th>1</th>\n",
       "      <td>1000001</td>\n",
       "      <td>P00248942</td>\n",
       "      <td>F</td>\n",
       "      <td>0-17</td>\n",
       "      <td>10</td>\n",
       "      <td>A</td>\n",
       "      <td>2</td>\n",
       "      <td>0</td>\n",
       "      <td>1</td>\n",
       "      <td>6.0</td>\n",
       "      <td>14.0</td>\n",
       "      <td>15200</td>\n",
       "    </tr>\n",
       "    <tr>\n",
       "      <th>2</th>\n",
       "      <td>1000001</td>\n",
       "      <td>P00087842</td>\n",
       "      <td>F</td>\n",
       "      <td>0-17</td>\n",
       "      <td>10</td>\n",
       "      <td>A</td>\n",
       "      <td>2</td>\n",
       "      <td>0</td>\n",
       "      <td>12</td>\n",
       "      <td>NaN</td>\n",
       "      <td>NaN</td>\n",
       "      <td>1422</td>\n",
       "    </tr>\n",
       "    <tr>\n",
       "      <th>3</th>\n",
       "      <td>1000001</td>\n",
       "      <td>P00085442</td>\n",
       "      <td>F</td>\n",
       "      <td>0-17</td>\n",
       "      <td>10</td>\n",
       "      <td>A</td>\n",
       "      <td>2</td>\n",
       "      <td>0</td>\n",
       "      <td>12</td>\n",
       "      <td>14.0</td>\n",
       "      <td>NaN</td>\n",
       "      <td>1057</td>\n",
       "    </tr>\n",
       "    <tr>\n",
       "      <th>4</th>\n",
       "      <td>1000002</td>\n",
       "      <td>P00285442</td>\n",
       "      <td>M</td>\n",
       "      <td>55+</td>\n",
       "      <td>16</td>\n",
       "      <td>C</td>\n",
       "      <td>4+</td>\n",
       "      <td>0</td>\n",
       "      <td>8</td>\n",
       "      <td>NaN</td>\n",
       "      <td>NaN</td>\n",
       "      <td>7969</td>\n",
       "    </tr>\n",
       "  </tbody>\n",
       "</table>\n",
       "</div>"
      ],
      "text/plain": [
       "   User_ID Product_ID Gender   Age  Occupation City_Category  \\\n",
       "0  1000001  P00069042      F  0-17          10             A   \n",
       "1  1000001  P00248942      F  0-17          10             A   \n",
       "2  1000001  P00087842      F  0-17          10             A   \n",
       "3  1000001  P00085442      F  0-17          10             A   \n",
       "4  1000002  P00285442      M   55+          16             C   \n",
       "\n",
       "  Stay_In_Current_City_Years  Marital_Status  Product_Category_1  \\\n",
       "0                          2               0                   3   \n",
       "1                          2               0                   1   \n",
       "2                          2               0                  12   \n",
       "3                          2               0                  12   \n",
       "4                         4+               0                   8   \n",
       "\n",
       "   Product_Category_2  Product_Category_3  Purchase  \n",
       "0                 NaN                 NaN      8370  \n",
       "1                 6.0                14.0     15200  \n",
       "2                 NaN                 NaN      1422  \n",
       "3                14.0                 NaN      1057  \n",
       "4                 NaN                 NaN      7969  "
      ]
     },
     "execution_count": 3,
     "metadata": {},
     "output_type": "execute_result"
    }
   ],
   "source": [
    "data.head()"
   ]
  },
  {
   "cell_type": "code",
   "execution_count": 4,
   "id": "ac17521e",
   "metadata": {
    "ExecuteTime": {
     "end_time": "2022-09-24T17:14:28.769477Z",
     "start_time": "2022-09-24T17:14:28.752473Z"
    },
    "scrolled": true
   },
   "outputs": [
    {
     "data": {
      "text/html": [
       "<div>\n",
       "<style scoped>\n",
       "    .dataframe tbody tr th:only-of-type {\n",
       "        vertical-align: middle;\n",
       "    }\n",
       "\n",
       "    .dataframe tbody tr th {\n",
       "        vertical-align: top;\n",
       "    }\n",
       "\n",
       "    .dataframe thead th {\n",
       "        text-align: right;\n",
       "    }\n",
       "</style>\n",
       "<table border=\"1\" class=\"dataframe\">\n",
       "  <thead>\n",
       "    <tr style=\"text-align: right;\">\n",
       "      <th></th>\n",
       "      <th>User_ID</th>\n",
       "      <th>Product_ID</th>\n",
       "      <th>Gender</th>\n",
       "      <th>Age</th>\n",
       "      <th>Occupation</th>\n",
       "      <th>City_Category</th>\n",
       "      <th>Stay_In_Current_City_Years</th>\n",
       "      <th>Marital_Status</th>\n",
       "      <th>Product_Category_1</th>\n",
       "      <th>Product_Category_2</th>\n",
       "      <th>Product_Category_3</th>\n",
       "      <th>Purchase</th>\n",
       "    </tr>\n",
       "  </thead>\n",
       "  <tbody>\n",
       "    <tr>\n",
       "      <th>550063</th>\n",
       "      <td>1006033</td>\n",
       "      <td>P00372445</td>\n",
       "      <td>M</td>\n",
       "      <td>51-55</td>\n",
       "      <td>13</td>\n",
       "      <td>B</td>\n",
       "      <td>1</td>\n",
       "      <td>1</td>\n",
       "      <td>20</td>\n",
       "      <td>NaN</td>\n",
       "      <td>NaN</td>\n",
       "      <td>368</td>\n",
       "    </tr>\n",
       "    <tr>\n",
       "      <th>550064</th>\n",
       "      <td>1006035</td>\n",
       "      <td>P00375436</td>\n",
       "      <td>F</td>\n",
       "      <td>26-35</td>\n",
       "      <td>1</td>\n",
       "      <td>C</td>\n",
       "      <td>3</td>\n",
       "      <td>0</td>\n",
       "      <td>20</td>\n",
       "      <td>NaN</td>\n",
       "      <td>NaN</td>\n",
       "      <td>371</td>\n",
       "    </tr>\n",
       "    <tr>\n",
       "      <th>550065</th>\n",
       "      <td>1006036</td>\n",
       "      <td>P00375436</td>\n",
       "      <td>F</td>\n",
       "      <td>26-35</td>\n",
       "      <td>15</td>\n",
       "      <td>B</td>\n",
       "      <td>4+</td>\n",
       "      <td>1</td>\n",
       "      <td>20</td>\n",
       "      <td>NaN</td>\n",
       "      <td>NaN</td>\n",
       "      <td>137</td>\n",
       "    </tr>\n",
       "    <tr>\n",
       "      <th>550066</th>\n",
       "      <td>1006038</td>\n",
       "      <td>P00375436</td>\n",
       "      <td>F</td>\n",
       "      <td>55+</td>\n",
       "      <td>1</td>\n",
       "      <td>C</td>\n",
       "      <td>2</td>\n",
       "      <td>0</td>\n",
       "      <td>20</td>\n",
       "      <td>NaN</td>\n",
       "      <td>NaN</td>\n",
       "      <td>365</td>\n",
       "    </tr>\n",
       "    <tr>\n",
       "      <th>550067</th>\n",
       "      <td>1006039</td>\n",
       "      <td>P00371644</td>\n",
       "      <td>F</td>\n",
       "      <td>46-50</td>\n",
       "      <td>0</td>\n",
       "      <td>B</td>\n",
       "      <td>4+</td>\n",
       "      <td>1</td>\n",
       "      <td>20</td>\n",
       "      <td>NaN</td>\n",
       "      <td>NaN</td>\n",
       "      <td>490</td>\n",
       "    </tr>\n",
       "  </tbody>\n",
       "</table>\n",
       "</div>"
      ],
      "text/plain": [
       "        User_ID Product_ID Gender    Age  Occupation City_Category  \\\n",
       "550063  1006033  P00372445      M  51-55          13             B   \n",
       "550064  1006035  P00375436      F  26-35           1             C   \n",
       "550065  1006036  P00375436      F  26-35          15             B   \n",
       "550066  1006038  P00375436      F    55+           1             C   \n",
       "550067  1006039  P00371644      F  46-50           0             B   \n",
       "\n",
       "       Stay_In_Current_City_Years  Marital_Status  Product_Category_1  \\\n",
       "550063                          1               1                  20   \n",
       "550064                          3               0                  20   \n",
       "550065                         4+               1                  20   \n",
       "550066                          2               0                  20   \n",
       "550067                         4+               1                  20   \n",
       "\n",
       "        Product_Category_2  Product_Category_3  Purchase  \n",
       "550063                 NaN                 NaN       368  \n",
       "550064                 NaN                 NaN       371  \n",
       "550065                 NaN                 NaN       137  \n",
       "550066                 NaN                 NaN       365  \n",
       "550067                 NaN                 NaN       490  "
      ]
     },
     "execution_count": 4,
     "metadata": {},
     "output_type": "execute_result"
    }
   ],
   "source": [
    "data.tail()"
   ]
  },
  {
   "cell_type": "code",
   "execution_count": 5,
   "id": "17557753",
   "metadata": {
    "ExecuteTime": {
     "end_time": "2022-09-24T17:14:28.941040Z",
     "start_time": "2022-09-24T17:14:28.923036Z"
    }
   },
   "outputs": [
    {
     "data": {
      "text/plain": [
       "550068"
      ]
     },
     "execution_count": 5,
     "metadata": {},
     "output_type": "execute_result"
    }
   ],
   "source": [
    "data.shape[0] #for calculating number of rows"
   ]
  },
  {
   "cell_type": "code",
   "execution_count": 7,
   "id": "08e4dd9f",
   "metadata": {
    "ExecuteTime": {
     "end_time": "2022-09-24T17:14:29.115079Z",
     "start_time": "2022-09-24T17:14:29.096075Z"
    }
   },
   "outputs": [
    {
     "data": {
      "text/plain": [
       "12"
      ]
     },
     "execution_count": 7,
     "metadata": {},
     "output_type": "execute_result"
    }
   ],
   "source": [
    "data.shape[1] #for calculating number of columns"
   ]
  },
  {
   "cell_type": "code",
   "execution_count": 6,
   "id": "52ff8c2a",
   "metadata": {
    "ExecuteTime": {
     "end_time": "2022-09-24T17:14:29.275114Z",
     "start_time": "2022-09-24T17:14:29.264113Z"
    }
   },
   "outputs": [
    {
     "data": {
      "text/plain": [
       "Index(['User_ID', 'Product_ID', 'Gender', 'Age', 'Occupation', 'City_Category',\n",
       "       'Stay_In_Current_City_Years', 'Marital_Status', 'Product_Category_1',\n",
       "       'Product_Category_2', 'Product_Category_3', 'Purchase'],\n",
       "      dtype='object')"
      ]
     },
     "execution_count": 6,
     "metadata": {},
     "output_type": "execute_result"
    }
   ],
   "source": [
    "data.columns"
   ]
  },
  {
   "cell_type": "code",
   "execution_count": 7,
   "id": "870c3079",
   "metadata": {
    "ExecuteTime": {
     "end_time": "2022-09-24T17:14:29.733321Z",
     "start_time": "2022-09-24T17:14:29.422147Z"
    }
   },
   "outputs": [
    {
     "name": "stdout",
     "output_type": "stream",
     "text": [
      "<class 'pandas.core.frame.DataFrame'>\n",
      "RangeIndex: 550068 entries, 0 to 550067\n",
      "Data columns (total 12 columns):\n",
      " #   Column                      Non-Null Count   Dtype  \n",
      "---  ------                      --------------   -----  \n",
      " 0   User_ID                     550068 non-null  int64  \n",
      " 1   Product_ID                  550068 non-null  object \n",
      " 2   Gender                      550068 non-null  object \n",
      " 3   Age                         550068 non-null  object \n",
      " 4   Occupation                  550068 non-null  int64  \n",
      " 5   City_Category               550068 non-null  object \n",
      " 6   Stay_In_Current_City_Years  550068 non-null  object \n",
      " 7   Marital_Status              550068 non-null  int64  \n",
      " 8   Product_Category_1          550068 non-null  int64  \n",
      " 9   Product_Category_2          376430 non-null  float64\n",
      " 10  Product_Category_3          166821 non-null  float64\n",
      " 11  Purchase                    550068 non-null  int64  \n",
      "dtypes: float64(2), int64(5), object(5)\n",
      "memory usage: 50.4+ MB\n"
     ]
    }
   ],
   "source": [
    "# for knowning for information about the column\n",
    "data.info()"
   ]
  },
  {
   "cell_type": "markdown",
   "id": "47dfe1ae",
   "metadata": {},
   "source": [
    "<pre> \n",
    "<b>Age</b> Should be treated as numerical column.\n",
    "<b>City_category</b> we can convert this to a numerical column and should look at the frequency of each city category.\n",
    "<b>Gender</b> has two values and should be converted to binary values.\n",
    "<b>Product_category_2 and product_category_3</b> has null values.\n",
    "</pre>\n"
   ]
  },
  {
   "cell_type": "markdown",
   "id": "87836cc6",
   "metadata": {
    "ExecuteTime": {
     "end_time": "2022-09-24T14:53:18.710861Z",
     "start_time": "2022-09-24T14:53:18.689865Z"
    }
   },
   "source": [
    "data.dtypes #show datatype"
   ]
  },
  {
   "cell_type": "markdown",
   "id": "8ff7fa1f",
   "metadata": {
    "ExecuteTime": {
     "end_time": "2022-09-24T14:57:08.322688Z",
     "start_time": "2022-09-24T14:57:08.309685Z"
    }
   },
   "source": [
    "<h3>Unique elements in each attributes</h3>"
   ]
  },
  {
   "cell_type": "code",
   "execution_count": 8,
   "id": "9bcb4da5",
   "metadata": {
    "ExecuteTime": {
     "end_time": "2022-09-24T17:14:30.236770Z",
     "start_time": "2022-09-24T17:14:30.106826Z"
    }
   },
   "outputs": [
    {
     "data": {
      "text/plain": [
       "User_ID                        5891\n",
       "Product_ID                     3631\n",
       "Gender                            2\n",
       "Age                               7\n",
       "Occupation                       21\n",
       "City_Category                     3\n",
       "Stay_In_Current_City_Years        5\n",
       "Marital_Status                    2\n",
       "Product_Category_1               20\n",
       "Product_Category_2               17\n",
       "Product_Category_3               15\n",
       "Purchase                      18105\n",
       "dtype: int64"
      ]
     },
     "execution_count": 8,
     "metadata": {},
     "output_type": "execute_result"
    }
   ],
   "source": [
    "\n",
    "data.nunique() #finding number  of unique value in each column"
   ]
  },
  {
   "cell_type": "markdown",
   "id": "3773d08c",
   "metadata": {},
   "source": [
    "<h3>Checking Null Values</h3>"
   ]
  },
  {
   "cell_type": "code",
   "execution_count": 9,
   "id": "738e9006",
   "metadata": {
    "ExecuteTime": {
     "end_time": "2022-09-24T17:14:30.742715Z",
     "start_time": "2022-09-24T17:14:30.455651Z"
    }
   },
   "outputs": [
    {
     "data": {
      "text/plain": [
       "User_ID                            0\n",
       "Product_ID                         0\n",
       "Gender                             0\n",
       "Age                                0\n",
       "Occupation                         0\n",
       "City_Category                      0\n",
       "Stay_In_Current_City_Years         0\n",
       "Marital_Status                     0\n",
       "Product_Category_1                 0\n",
       "Product_Category_2            173638\n",
       "Product_Category_3            383247\n",
       "Purchase                           0\n",
       "dtype: int64"
      ]
     },
     "execution_count": 9,
     "metadata": {},
     "output_type": "execute_result"
    }
   ],
   "source": [
    "data.isnull().sum() # for calculating toatl null value in each column"
   ]
  },
  {
   "cell_type": "markdown",
   "id": "69ba80ac",
   "metadata": {},
   "source": [
    "<h3>Target Variable Purchase</h3>"
   ]
  },
  {
   "cell_type": "code",
   "execution_count": 10,
   "id": "2b5500f5",
   "metadata": {
    "ExecuteTime": {
     "end_time": "2022-09-24T17:14:33.231060Z",
     "start_time": "2022-09-24T17:14:30.796790Z"
    }
   },
   "outputs": [
    {
     "name": "stderr",
     "output_type": "stream",
     "text": [
      "C:\\Users\\ANANYA AGRAWAL\\anaconda3\\lib\\site-packages\\seaborn\\distributions.py:2619: FutureWarning: `distplot` is a deprecated function and will be removed in a future version. Please adapt your code to use either `displot` (a figure-level function with similar flexibility) or `histplot` (an axes-level function for histograms).\n",
      "  warnings.warn(msg, FutureWarning)\n"
     ]
    },
    {
     "data": {
      "image/png": "[encoded data removed]",
      "text/plain": [
       "<Figure size 432x288 with 1 Axes>"
      ]
     },
     "metadata": {
      "needs_background": "light"
     },
     "output_type": "display_data"
    }
   ],
   "source": [
    "sns.distplot(data[\"Purchase\"],color='r')\n",
    "plt.title(\"Purchase Distribution\")\n",
    "plt.show()"
   ]
  },
  {
   "cell_type": "markdown",
   "id": "2f2f35b0",
   "metadata": {},
   "source": [
    "<pre>We can observe that purchase amount is repeating for many customers.\n",
    "This may be because on Black Friday many are buying discounted products in large numbers and kind of follows a Gaussian Distribution.</pre>"
   ]
  },
  {
   "cell_type": "code",
   "execution_count": 11,
   "id": "15f1c9ea",
   "metadata": {
    "ExecuteTime": {
     "end_time": "2022-09-24T17:14:33.327084Z",
     "start_time": "2022-09-24T17:14:33.233053Z"
    }
   },
   "outputs": [
    {
     "name": "stderr",
     "output_type": "stream",
     "text": [
      "C:\\Users\\ANANYA AGRAWAL\\anaconda3\\lib\\site-packages\\seaborn\\_decorators.py:36: FutureWarning: Pass the following variable as a keyword arg: x. From version 0.12, the only valid positional argument will be `data`, and passing other arguments without an explicit keyword will result in an error or misinterpretation.\n",
      "  warnings.warn(\n"
     ]
    },
    {
     "data": {
      "image/png": "[encoded data removed]",
      "text/plain": [
       "<Figure size 432x288 with 1 Axes>"
      ]
     },
     "metadata": {
      "needs_background": "light"
     },
     "output_type": "display_data"
    }
   ],
   "source": [
    "sns.boxplot(data[\"Purchase\"])\n",
    "plt.title(\"Boxplot of Purchase\")\n",
    "plt.show()"
   ]
  },
  {
   "cell_type": "markdown",
   "id": "5210032c",
   "metadata": {
    "ExecuteTime": {
     "end_time": "2022-09-24T16:11:21.696218Z",
     "start_time": "2022-09-24T16:11:21.672212Z"
    }
   },
   "source": [
    "<pre>\n",
    "<b>Skewness</b>\n",
    "I found that it is right skew data set it means there are outliers in \n",
    "data \n",
    "<b>kurtosis</b>\n",
    "I found it is platkurtic because its value is less than \n",
    "</pre>"
   ]
  },
  {
   "cell_type": "code",
   "execution_count": 14,
   "id": "6e8b5c9c",
   "metadata": {
    "ExecuteTime": {
     "end_time": "2022-09-24T17:14:33.359091Z",
     "start_time": "2022-09-24T17:14:33.329075Z"
    }
   },
   "outputs": [
    {
     "data": {
      "text/plain": [
       "0.6001400037087128"
      ]
     },
     "execution_count": 14,
     "metadata": {},
     "output_type": "execute_result"
    }
   ],
   "source": [
    "data[\"Purchase\"].skew()# finding the skewness in the data"
   ]
  },
  {
   "cell_type": "code",
   "execution_count": 15,
   "id": "258d334d",
   "metadata": {
    "ExecuteTime": {
     "end_time": "2022-09-24T17:14:33.391089Z",
     "start_time": "2022-09-24T17:14:33.362083Z"
    }
   },
   "outputs": [
    {
     "data": {
      "text/plain": [
       "-0.3383775655851702"
      ]
     },
     "execution_count": 15,
     "metadata": {},
     "output_type": "execute_result"
    }
   ],
   "source": [
    "data[\"Purchase\"].kurtosis()# finding the kutosis in the data"
   ]
  },
  {
   "cell_type": "code",
   "execution_count": 12,
   "id": "896a8206",
   "metadata": {
    "ExecuteTime": {
     "end_time": "2022-09-24T17:14:33.438399Z",
     "start_time": "2022-09-24T17:14:33.393089Z"
    }
   },
   "outputs": [
    {
     "data": {
      "text/plain": [
       "count    550068.000000\n",
       "mean       9263.968713\n",
       "std        5023.065394\n",
       "min          12.000000\n",
       "25%        5823.000000\n",
       "50%        8047.000000\n",
       "75%       12054.000000\n",
       "max       23961.000000\n",
       "Name: Purchase, dtype: float64"
      ]
     },
     "execution_count": 12,
     "metadata": {},
     "output_type": "execute_result"
    }
   ],
   "source": [
    "data[\"Purchase\"].describe()"
   ]
  },
  {
   "cell_type": "markdown",
   "id": "23ba875b",
   "metadata": {
    "ExecuteTime": {
     "end_time": "2022-09-24T16:12:23.468710Z",
     "start_time": "2022-09-24T16:12:23.453691Z"
    }
   },
   "source": [
    "<h3>Gender</h3>"
   ]
  },
  {
   "cell_type": "code",
   "execution_count": 13,
   "id": "09634957",
   "metadata": {
    "ExecuteTime": {
     "end_time": "2022-09-24T17:14:33.737466Z",
     "start_time": "2022-09-24T17:14:33.440397Z"
    }
   },
   "outputs": [
    {
     "name": "stderr",
     "output_type": "stream",
     "text": [
      "C:\\Users\\ANANYA AGRAWAL\\anaconda3\\lib\\site-packages\\seaborn\\_decorators.py:36: FutureWarning: Pass the following variable as a keyword arg: x. From version 0.12, the only valid positional argument will be `data`, and passing other arguments without an explicit keyword will result in an error or misinterpretation.\n",
      "  warnings.warn(\n"
     ]
    },
    {
     "data": {
      "text/plain": [
       "<AxesSubplot:xlabel='Gender', ylabel='count'>"
      ]
     },
     "execution_count": 13,
     "metadata": {},
     "output_type": "execute_result"
    },
    {
     "data": {
      "image/png": "[encoded data removed]",
      "text/plain": [
       "<Figure size 432x288 with 1 Axes>"
      ]
     },
     "metadata": {
      "needs_background": "light"
     },
     "output_type": "display_data"
    }
   ],
   "source": [
    "sns.countplot(data['Gender'])\n",
    " "
   ]
  },
  {
   "cell_type": "code",
   "execution_count": 14,
   "id": "7634b372",
   "metadata": {
    "ExecuteTime": {
     "end_time": "2022-09-24T17:14:33.769463Z",
     "start_time": "2022-09-24T17:14:33.739461Z"
    }
   },
   "outputs": [
    {
     "data": {
      "text/plain": [
       "M    75.310507\n",
       "F    24.689493\n",
       "Name: Gender, dtype: float64"
      ]
     },
     "execution_count": 14,
     "metadata": {},
     "output_type": "execute_result"
    }
   ],
   "source": [
    "# to get data in percentage formate\n",
    "data['Gender'].value_counts(normalize=True)*100\n"
   ]
  },
  {
   "cell_type": "code",
   "execution_count": 19,
   "id": "92a11edb",
   "metadata": {
    "ExecuteTime": {
     "end_time": "2022-09-24T17:14:33.832479Z",
     "start_time": "2022-09-24T17:14:33.771467Z"
    }
   },
   "outputs": [
    {
     "data": {
      "text/plain": [
       "Gender\n",
       "F    8734.565765\n",
       "M    9437.526040\n",
       "Name: Purchase, dtype: float64"
      ]
     },
     "execution_count": 19,
     "metadata": {},
     "output_type": "execute_result"
    }
   ],
   "source": [
    "# Calculate purchase gender wise\n",
    "data.groupby(\"Gender\").mean()  [\"Purchase\"]"
   ]
  },
  {
   "cell_type": "markdown",
   "id": "6e7966a0",
   "metadata": {},
   "source": [
    "<h3>Marital Status</h3>"
   ]
  },
  {
   "cell_type": "code",
   "execution_count": 20,
   "id": "8a0fed4c",
   "metadata": {
    "ExecuteTime": {
     "end_time": "2022-09-24T17:14:34.038523Z",
     "start_time": "2022-09-24T17:14:33.835479Z"
    }
   },
   "outputs": [
    {
     "name": "stderr",
     "output_type": "stream",
     "text": [
      "C:\\python310\\lib\\site-packages\\seaborn\\_decorators.py:36: FutureWarning: Pass the following variable as a keyword arg: x. From version 0.12, the only valid positional argument will be `data`, and passing other arguments without an explicit keyword will result in an error or misinterpretation.\n",
      "  warnings.warn(\n"
     ]
    },
    {
     "data": {
      "image/png": "[encoded data removed]",
      "text/plain": [
       "<Figure size 432x288 with 1 Axes>"
      ]
     },
     "metadata": {
      "needs_background": "light"
     },
     "output_type": "display_data"
    }
   ],
   "source": [
    "sns.countplot(data['Marital_Status'])\n",
    "plt.show()"
   ]
  },
  {
   "cell_type": "markdown",
   "id": "957bf2f4",
   "metadata": {},
   "source": [
    "<pre>There are more unmarried people in the dataset who purchase more </pre>"
   ]
  },
  {
   "cell_type": "code",
   "execution_count": 21,
   "id": "7cb7c3d1",
   "metadata": {
    "ExecuteTime": {
     "end_time": "2022-09-24T17:19:23.526099Z",
     "start_time": "2022-09-24T17:19:23.475092Z"
    }
   },
   "outputs": [
    {
     "data": {
      "text/plain": [
       "Marital_Status\n",
       "0    9265.907619\n",
       "1    9261.174574\n",
       "Name: Purchase, dtype: float64"
      ]
     },
     "execution_count": 21,
     "metadata": {},
     "output_type": "execute_result"
    }
   ],
   "source": [
    "data.groupby(\"Marital_Status\").mean()[\"Purchase\"]"
   ]
  },
  {
   "cell_type": "code",
   "execution_count": 22,
   "id": "0dbbfcb4",
   "metadata": {
    "ExecuteTime": {
     "end_time": "2022-09-24T17:19:33.200936Z",
     "start_time": "2022-09-24T17:19:30.535340Z"
    }
   },
   "outputs": [
    {
     "data": {
      "image/png": "[encoded data removed]",
      "text/plain": [
       "<Figure size 432x288 with 1 Axes>"
      ]
     },
     "metadata": {
      "needs_background": "light"
     },
     "output_type": "display_data"
    }
   ],
   "source": [
    "data.groupby(\"Marital_Status\").mean()[\"Purchase\"].plot(kind='bar')\n",
    "plt.title(\"Marital_Status and Purchase Analysis\")\n",
    "plt.show()"
   ]
  },
  {
   "cell_type": "markdown",
   "id": "b2c8a0e0",
   "metadata": {},
   "source": [
    "<pre>\n",
    "This is interesting though unmarried people spend more on purchasing, the average purchase amount of married and unmarried people are the same.</pre>"
   ]
  },
  {
   "cell_type": "markdown",
   "id": "02dfa728",
   "metadata": {
    "ExecuteTime": {
     "end_time": "2022-09-24T17:21:45.104011Z",
     "start_time": "2022-09-24T17:21:45.097007Z"
    }
   },
   "source": [
    "<h3>Occupation</h3>"
   ]
  },
  {
   "cell_type": "code",
   "execution_count": 24,
   "id": "4b6dcbb7",
   "metadata": {
    "ExecuteTime": {
     "end_time": "2022-09-24T17:21:58.774374Z",
     "start_time": "2022-09-24T17:21:58.572332Z"
    }
   },
   "outputs": [
    {
     "name": "stderr",
     "output_type": "stream",
     "text": [
      "C:\\python310\\lib\\site-packages\\seaborn\\_decorators.py:36: FutureWarning: Pass the following variable as a keyword arg: x. From version 0.12, the only valid positional argument will be `data`, and passing other arguments without an explicit keyword will result in an error or misinterpretation.\n",
      "  warnings.warn(\n"
     ]
    },
    {
     "data": {
      "image/png": "[encoded data removed]",
      "text/plain": [
       "<Figure size 1296x360 with 1 Axes>"
      ]
     },
     "metadata": {
      "needs_background": "light"
     },
     "output_type": "display_data"
    }
   ],
   "source": [
    "plt.figure(figsize=(18,5))\n",
    "sns.countplot(data['Occupation'])\n",
    "plt.show()"
   ]
  },
  {
   "cell_type": "markdown",
   "id": "b1b6d559",
   "metadata": {},
   "source": [
    "<pre>\n",
    "Occupation has at least 20 different values. Since we do not known to each occupation each number corresponds, is difficult to make any analysis. Furthermore, it seems we have no alternative but to use since there is no way to reduce this number</pre>"
   ]
  },
  {
   "cell_type": "code",
   "execution_count": 25,
   "id": "5240ed44",
   "metadata": {
    "ExecuteTime": {
     "end_time": "2022-09-24T17:22:40.098167Z",
     "start_time": "2022-09-24T17:22:40.047164Z"
    }
   },
   "outputs": [
    {
     "data": {
      "text/html": [
       "<div>\n",
       "<style scoped>\n",
       "    .dataframe tbody tr th:only-of-type {\n",
       "        vertical-align: middle;\n",
       "    }\n",
       "\n",
       "    .dataframe tbody tr th {\n",
       "        vertical-align: top;\n",
       "    }\n",
       "\n",
       "    .dataframe thead th {\n",
       "        text-align: right;\n",
       "    }\n",
       "</style>\n",
       "<table border=\"1\" class=\"dataframe\">\n",
       "  <thead>\n",
       "    <tr style=\"text-align: right;\">\n",
       "      <th></th>\n",
       "      <th>Purchase</th>\n",
       "    </tr>\n",
       "    <tr>\n",
       "      <th>Occupation</th>\n",
       "      <th></th>\n",
       "    </tr>\n",
       "  </thead>\n",
       "  <tbody>\n",
       "    <tr>\n",
       "      <th>0</th>\n",
       "      <td>9124.428588</td>\n",
       "    </tr>\n",
       "    <tr>\n",
       "      <th>1</th>\n",
       "      <td>8953.193270</td>\n",
       "    </tr>\n",
       "    <tr>\n",
       "      <th>2</th>\n",
       "      <td>8952.481683</td>\n",
       "    </tr>\n",
       "    <tr>\n",
       "      <th>3</th>\n",
       "      <td>9178.593088</td>\n",
       "    </tr>\n",
       "    <tr>\n",
       "      <th>4</th>\n",
       "      <td>9213.980251</td>\n",
       "    </tr>\n",
       "    <tr>\n",
       "      <th>5</th>\n",
       "      <td>9333.149298</td>\n",
       "    </tr>\n",
       "    <tr>\n",
       "      <th>6</th>\n",
       "      <td>9256.535691</td>\n",
       "    </tr>\n",
       "    <tr>\n",
       "      <th>7</th>\n",
       "      <td>9425.728223</td>\n",
       "    </tr>\n",
       "    <tr>\n",
       "      <th>8</th>\n",
       "      <td>9532.592497</td>\n",
       "    </tr>\n",
       "    <tr>\n",
       "      <th>9</th>\n",
       "      <td>8637.743761</td>\n",
       "    </tr>\n",
       "    <tr>\n",
       "      <th>10</th>\n",
       "      <td>8959.355375</td>\n",
       "    </tr>\n",
       "    <tr>\n",
       "      <th>11</th>\n",
       "      <td>9213.845848</td>\n",
       "    </tr>\n",
       "    <tr>\n",
       "      <th>12</th>\n",
       "      <td>9796.640239</td>\n",
       "    </tr>\n",
       "    <tr>\n",
       "      <th>13</th>\n",
       "      <td>9306.351061</td>\n",
       "    </tr>\n",
       "    <tr>\n",
       "      <th>14</th>\n",
       "      <td>9500.702772</td>\n",
       "    </tr>\n",
       "    <tr>\n",
       "      <th>15</th>\n",
       "      <td>9778.891163</td>\n",
       "    </tr>\n",
       "    <tr>\n",
       "      <th>16</th>\n",
       "      <td>9394.464349</td>\n",
       "    </tr>\n",
       "    <tr>\n",
       "      <th>17</th>\n",
       "      <td>9821.478236</td>\n",
       "    </tr>\n",
       "    <tr>\n",
       "      <th>18</th>\n",
       "      <td>9169.655844</td>\n",
       "    </tr>\n",
       "    <tr>\n",
       "      <th>19</th>\n",
       "      <td>8710.627231</td>\n",
       "    </tr>\n",
       "    <tr>\n",
       "      <th>20</th>\n",
       "      <td>8836.494905</td>\n",
       "    </tr>\n",
       "  </tbody>\n",
       "</table>\n",
       "</div>"
      ],
      "text/plain": [
       "               Purchase\n",
       "Occupation             \n",
       "0           9124.428588\n",
       "1           8953.193270\n",
       "2           8952.481683\n",
       "3           9178.593088\n",
       "4           9213.980251\n",
       "5           9333.149298\n",
       "6           9256.535691\n",
       "7           9425.728223\n",
       "8           9532.592497\n",
       "9           8637.743761\n",
       "10          8959.355375\n",
       "11          9213.845848\n",
       "12          9796.640239\n",
       "13          9306.351061\n",
       "14          9500.702772\n",
       "15          9778.891163\n",
       "16          9394.464349\n",
       "17          9821.478236\n",
       "18          9169.655844\n",
       "19          8710.627231\n",
       "20          8836.494905"
      ]
     },
     "execution_count": 25,
     "metadata": {},
     "output_type": "execute_result"
    }
   ],
   "source": [
    "occup = pd.DataFrame(data.groupby(\"Occupation\").mean()[\"Purchase\"])\n",
    "occup"
   ]
  },
  {
   "cell_type": "markdown",
   "id": "7ae3d9e9",
   "metadata": {},
   "source": [
    "<h3> City_Category </h3>"
   ]
  },
  {
   "cell_type": "code",
   "execution_count": 26,
   "id": "6c13409c",
   "metadata": {
    "ExecuteTime": {
     "end_time": "2022-09-24T17:23:20.177887Z",
     "start_time": "2022-09-24T17:23:19.896824Z"
    }
   },
   "outputs": [
    {
     "name": "stderr",
     "output_type": "stream",
     "text": [
      "C:\\python310\\lib\\site-packages\\seaborn\\_decorators.py:36: FutureWarning: Pass the following variable as a keyword arg: x. From version 0.12, the only valid positional argument will be `data`, and passing other arguments without an explicit keyword will result in an error or misinterpretation.\n",
      "  warnings.warn(\n"
     ]
    },
    {
     "data": {
      "image/png": "[encoded data removed]",
      "text/plain": [
       "<Figure size 432x288 with 1 Axes>"
      ]
     },
     "metadata": {
      "needs_background": "light"
     },
     "output_type": "display_data"
    }
   ],
   "source": [
    "sns.countplot(data['City_Category'])\n",
    "plt.show()"
   ]
  },
  {
   "cell_type": "markdown",
   "id": "e901818b",
   "metadata": {},
   "source": [
    "<code>It is observed that city category B has made the most number of puchases.</code>"
   ]
  },
  {
   "cell_type": "code",
   "execution_count": 27,
   "id": "7dfa206f",
   "metadata": {
    "ExecuteTime": {
     "end_time": "2022-09-24T17:24:36.813777Z",
     "start_time": "2022-09-24T17:24:36.691759Z"
    }
   },
   "outputs": [
    {
     "data": {
      "image/png": "[encoded data removed]",
      "text/plain": [
       "<Figure size 432x288 with 1 Axes>"
      ]
     },
     "metadata": {
      "needs_background": "light"
     },
     "output_type": "display_data"
    }
   ],
   "source": [
    "data.groupby(\"City_Category\").mean()[\"Purchase\"].plot(kind='bar')\n",
    "plt.title(\"City Category and Purchase Analysis\")\n",
    "plt.show()"
   ]
  },
  {
   "cell_type": "markdown",
   "id": "6f592b7b",
   "metadata": {
    "ExecuteTime": {
     "end_time": "2022-09-24T17:25:19.563329Z",
     "start_time": "2022-09-24T17:25:19.542324Z"
    }
   },
   "source": [
    "<code> the city whose buyers spend the most is city type ‘C’.</code>"
   ]
  },
  {
   "cell_type": "markdown",
   "id": "75767421",
   "metadata": {},
   "source": [
    "<h3>Stay_In_Current_City_Years</h3>"
   ]
  },
  {
   "cell_type": "code",
   "execution_count": 30,
   "id": "0640e7b4",
   "metadata": {
    "ExecuteTime": {
     "end_time": "2022-09-24T17:30:17.977453Z",
     "start_time": "2022-09-24T17:30:17.680383Z"
    }
   },
   "outputs": [
    {
     "name": "stderr",
     "output_type": "stream",
     "text": [
      "C:\\python310\\lib\\site-packages\\seaborn\\_decorators.py:36: FutureWarning: Pass the following variable as a keyword arg: x. From version 0.12, the only valid positional argument will be `data`, and passing other arguments without an explicit keyword will result in an error or misinterpretation.\n",
      "  warnings.warn(\n"
     ]
    },
    {
     "data": {
      "text/plain": [
       "<AxesSubplot:xlabel='Stay_In_Current_City_Years', ylabel='count'>"
      ]
     },
     "execution_count": 30,
     "metadata": {},
     "output_type": "execute_result"
    },
    {
     "data": {
      "image/png": "[encoded data removed]",
      "text/plain": [
       "<Figure size 432x288 with 1 Axes>"
      ]
     },
     "metadata": {
      "needs_background": "light"
     },
     "output_type": "display_data"
    }
   ],
   "source": [
    "sns.countplot(data['Stay_In_Current_City_Years'])"
   ]
  },
  {
   "cell_type": "markdown",
   "id": "132551b8",
   "metadata": {
    "ExecuteTime": {
     "end_time": "2022-09-24T17:33:51.066831Z",
     "start_time": "2022-09-24T17:33:51.052817Z"
    }
   },
   "source": [
    "<code>It shows that the person living in that city the less prone they are to buy new things.Hence, if someone is new in new in the town needs a great number of new things for their house that they'll take advantage of the low prices in Black friday to purchase all the things needed.</code>"
   ]
  },
  {
   "cell_type": "markdown",
   "id": "1094e050",
   "metadata": {},
   "source": [
    "<h3>Age</h3>"
   ]
  },
  {
   "cell_type": "code",
   "execution_count": 32,
   "id": "4392da01",
   "metadata": {
    "ExecuteTime": {
     "end_time": "2022-09-24T17:35:44.981327Z",
     "start_time": "2022-09-24T17:35:44.657255Z"
    }
   },
   "outputs": [
    {
     "name": "stderr",
     "output_type": "stream",
     "text": [
      "C:\\python310\\lib\\site-packages\\seaborn\\_decorators.py:36: FutureWarning: Pass the following variable as a keyword arg: x. From version 0.12, the only valid positional argument will be `data`, and passing other arguments without an explicit keyword will result in an error or misinterpretation.\n",
      "  warnings.warn(\n"
     ]
    },
    {
     "data": {
      "text/plain": [
       "Text(0.5, 0, 'Different Categories of Age')"
      ]
     },
     "execution_count": 32,
     "metadata": {},
     "output_type": "execute_result"
    },
    {
     "data": {
      "image/png": "[encoded data removed]",
      "text/plain": [
       "<Figure size 432x288 with 1 Axes>"
      ]
     },
     "metadata": {
      "needs_background": "light"
     },
     "output_type": "display_data"
    }
   ],
   "source": [
    "sns.countplot(data['Age'])\n",
    "plt.title('Distribution of Age')\n",
    "plt.xlabel('Different Categories of Age')\n",
    " "
   ]
  },
  {
   "cell_type": "markdown",
   "id": "818ac02f",
   "metadata": {},
   "source": [
    "<code>Age 26-35 Age group makes the most no of purchases in the age group.</code>"
   ]
  },
  {
   "cell_type": "code",
   "execution_count": 33,
   "id": "30a2ed7d",
   "metadata": {
    "ExecuteTime": {
     "end_time": "2022-09-24T17:38:48.788976Z",
     "start_time": "2022-09-24T17:38:48.642426Z"
    }
   },
   "outputs": [
    {
     "data": {
      "text/plain": [
       "<AxesSubplot:xlabel='Age'>"
      ]
     },
     "execution_count": 33,
     "metadata": {},
     "output_type": "execute_result"
    },
    {
     "data": {
      "image/png": "[encoded data removed]",
      "text/plain": [
       "<Figure size 432x288 with 1 Axes>"
      ]
     },
     "metadata": {
      "needs_background": "light"
     },
     "output_type": "display_data"
    }
   ],
   "source": [
    "data.groupby(\"Age\").mean()[\"Purchase\"].plot(kind='bar')"
   ]
  },
  {
   "cell_type": "markdown",
   "id": "ff505872",
   "metadata": {},
   "source": [
    "<code>Mean puchase rate between the age groups tends to be the same except that the 51-55 age group has a little higher average purchase amount</code>"
   ]
  },
  {
   "cell_type": "markdown",
   "id": "f9d7c575",
   "metadata": {},
   "source": [
    "<h3>Product_Category_1</h3>"
   ]
  },
  {
   "cell_type": "code",
   "execution_count": 34,
   "id": "0696e525",
   "metadata": {
    "ExecuteTime": {
     "end_time": "2022-09-24T17:40:50.245853Z",
     "start_time": "2022-09-24T17:40:50.038809Z"
    }
   },
   "outputs": [
    {
     "name": "stderr",
     "output_type": "stream",
     "text": [
      "C:\\python310\\lib\\site-packages\\seaborn\\_decorators.py:36: FutureWarning: Pass the following variable as a keyword arg: x. From version 0.12, the only valid positional argument will be `data`, and passing other arguments without an explicit keyword will result in an error or misinterpretation.\n",
      "  warnings.warn(\n"
     ]
    },
    {
     "data": {
      "text/plain": [
       "<AxesSubplot:xlabel='Product_Category_1', ylabel='count'>"
      ]
     },
     "execution_count": 34,
     "metadata": {},
     "output_type": "execute_result"
    },
    {
     "data": {
      "image/png": "[encoded data removed]",
      "text/plain": [
       "<Figure size 1296x360 with 1 Axes>"
      ]
     },
     "metadata": {
      "needs_background": "light"
     },
     "output_type": "display_data"
    }
   ],
   "source": [
    "plt.figure(figsize=(18,5))\n",
    "sns.countplot(data['Product_Category_1'])\n"
   ]
  },
  {
   "cell_type": "markdown",
   "id": "560f188d",
   "metadata": {},
   "source": [
    "<code>It is clear that Product_Category_1 numbers 1,5 and 8 stand out. Unfortunately we don't know which product each number represents as it is masked.</code>"
   ]
  },
  {
   "cell_type": "markdown",
   "id": "874d495e",
   "metadata": {},
   "source": [
    "<h3>Product_Category_2</h3>"
   ]
  },
  {
   "cell_type": "code",
   "execution_count": 35,
   "id": "c6bbb558",
   "metadata": {
    "ExecuteTime": {
     "end_time": "2022-09-24T17:42:12.329393Z",
     "start_time": "2022-09-24T17:42:12.135348Z"
    }
   },
   "outputs": [
    {
     "name": "stderr",
     "output_type": "stream",
     "text": [
      "C:\\python310\\lib\\site-packages\\seaborn\\_decorators.py:36: FutureWarning: Pass the following variable as a keyword arg: x. From version 0.12, the only valid positional argument will be `data`, and passing other arguments without an explicit keyword will result in an error or misinterpretation.\n",
      "  warnings.warn(\n"
     ]
    },
    {
     "data": {
      "text/plain": [
       "<AxesSubplot:xlabel='Product_Category_3', ylabel='count'>"
      ]
     },
     "execution_count": 35,
     "metadata": {},
     "output_type": "execute_result"
    },
    {
     "data": {
      "image/png": "[encoded data removed]",
      "text/plain": [
       "<Figure size 1296x360 with 1 Axes>"
      ]
     },
     "metadata": {
      "needs_background": "light"
     },
     "output_type": "display_data"
    }
   ],
   "source": [
    "plt.figure(figsize=(18,5))\n",
    "sns.countplot(data['Product_Category_3'])"
   ]
  },
  {
   "cell_type": "markdown",
   "id": "b3db6a6d",
   "metadata": {},
   "source": [
    "<h3>Product_Category_3</h3>"
   ]
  },
  {
   "cell_type": "code",
   "execution_count": 16,
   "id": "7703074b",
   "metadata": {
    "ExecuteTime": {
     "end_time": "2022-09-24T17:42:51.420336Z",
     "start_time": "2022-09-24T17:42:51.228291Z"
    }
   },
   "outputs": [
    {
     "name": "stderr",
     "output_type": "stream",
     "text": [
      "C:\\Users\\ANANYA AGRAWAL\\anaconda3\\lib\\site-packages\\seaborn\\_decorators.py:36: FutureWarning: Pass the following variable as a keyword arg: x. From version 0.12, the only valid positional argument will be `data`, and passing other arguments without an explicit keyword will result in an error or misinterpretation.\n",
      "  warnings.warn(\n"
     ]
    },
    {
     "data": {
      "text/plain": [
       "<AxesSubplot:xlabel='Product_Category_3', ylabel='count'>"
      ]
     },
     "execution_count": 16,
     "metadata": {},
     "output_type": "execute_result"
    },
    {
     "data": {
      "image/png": "[encoded data removed]",
      "text/plain": [
       "<Figure size 1296x360 with 1 Axes>"
      ]
     },
     "metadata": {
      "needs_background": "light"
     },
     "output_type": "display_data"
    }
   ],
   "source": [
    "plt.figure(figsize=(18,5))\n",
    "sns.countplot(data['Product_Category_3'])"
   ]
  },
  {
   "cell_type": "code",
   "execution_count": 37,
   "id": "66516a5b",
   "metadata": {
    "ExecuteTime": {
     "end_time": "2022-09-24T17:42:57.284014Z",
     "start_time": "2022-09-24T17:42:57.168988Z"
    }
   },
   "outputs": [
    {
     "data": {
      "text/html": [
       "<div>\n",
       "<style scoped>\n",
       "    .dataframe tbody tr th:only-of-type {\n",
       "        vertical-align: middle;\n",
       "    }\n",
       "\n",
       "    .dataframe tbody tr th {\n",
       "        vertical-align: top;\n",
       "    }\n",
       "\n",
       "    .dataframe thead th {\n",
       "        text-align: right;\n",
       "    }\n",
       "</style>\n",
       "<table border=\"1\" class=\"dataframe\">\n",
       "  <thead>\n",
       "    <tr style=\"text-align: right;\">\n",
       "      <th></th>\n",
       "      <th>User_ID</th>\n",
       "      <th>Occupation</th>\n",
       "      <th>Marital_Status</th>\n",
       "      <th>Product_Category_1</th>\n",
       "      <th>Product_Category_2</th>\n",
       "      <th>Product_Category_3</th>\n",
       "      <th>Purchase</th>\n",
       "    </tr>\n",
       "  </thead>\n",
       "  <tbody>\n",
       "    <tr>\n",
       "      <th>User_ID</th>\n",
       "      <td>1.000000</td>\n",
       "      <td>-0.023971</td>\n",
       "      <td>0.020443</td>\n",
       "      <td>0.003825</td>\n",
       "      <td>0.001529</td>\n",
       "      <td>0.003419</td>\n",
       "      <td>0.004716</td>\n",
       "    </tr>\n",
       "    <tr>\n",
       "      <th>Occupation</th>\n",
       "      <td>-0.023971</td>\n",
       "      <td>1.000000</td>\n",
       "      <td>0.024280</td>\n",
       "      <td>-0.007618</td>\n",
       "      <td>-0.000384</td>\n",
       "      <td>0.013263</td>\n",
       "      <td>0.020833</td>\n",
       "    </tr>\n",
       "    <tr>\n",
       "      <th>Marital_Status</th>\n",
       "      <td>0.020443</td>\n",
       "      <td>0.024280</td>\n",
       "      <td>1.000000</td>\n",
       "      <td>0.019888</td>\n",
       "      <td>0.015138</td>\n",
       "      <td>0.019473</td>\n",
       "      <td>-0.000463</td>\n",
       "    </tr>\n",
       "    <tr>\n",
       "      <th>Product_Category_1</th>\n",
       "      <td>0.003825</td>\n",
       "      <td>-0.007618</td>\n",
       "      <td>0.019888</td>\n",
       "      <td>1.000000</td>\n",
       "      <td>0.540583</td>\n",
       "      <td>0.229678</td>\n",
       "      <td>-0.343703</td>\n",
       "    </tr>\n",
       "    <tr>\n",
       "      <th>Product_Category_2</th>\n",
       "      <td>0.001529</td>\n",
       "      <td>-0.000384</td>\n",
       "      <td>0.015138</td>\n",
       "      <td>0.540583</td>\n",
       "      <td>1.000000</td>\n",
       "      <td>0.543649</td>\n",
       "      <td>-0.209918</td>\n",
       "    </tr>\n",
       "    <tr>\n",
       "      <th>Product_Category_3</th>\n",
       "      <td>0.003419</td>\n",
       "      <td>0.013263</td>\n",
       "      <td>0.019473</td>\n",
       "      <td>0.229678</td>\n",
       "      <td>0.543649</td>\n",
       "      <td>1.000000</td>\n",
       "      <td>-0.022006</td>\n",
       "    </tr>\n",
       "    <tr>\n",
       "      <th>Purchase</th>\n",
       "      <td>0.004716</td>\n",
       "      <td>0.020833</td>\n",
       "      <td>-0.000463</td>\n",
       "      <td>-0.343703</td>\n",
       "      <td>-0.209918</td>\n",
       "      <td>-0.022006</td>\n",
       "      <td>1.000000</td>\n",
       "    </tr>\n",
       "  </tbody>\n",
       "</table>\n",
       "</div>"
      ],
      "text/plain": [
       "                     User_ID  Occupation  Marital_Status  Product_Category_1  \\\n",
       "User_ID             1.000000   -0.023971        0.020443            0.003825   \n",
       "Occupation         -0.023971    1.000000        0.024280           -0.007618   \n",
       "Marital_Status      0.020443    0.024280        1.000000            0.019888   \n",
       "Product_Category_1  0.003825   -0.007618        0.019888            1.000000   \n",
       "Product_Category_2  0.001529   -0.000384        0.015138            0.540583   \n",
       "Product_Category_3  0.003419    0.013263        0.019473            0.229678   \n",
       "Purchase            0.004716    0.020833       -0.000463           -0.343703   \n",
       "\n",
       "                    Product_Category_2  Product_Category_3  Purchase  \n",
       "User_ID                       0.001529            0.003419  0.004716  \n",
       "Occupation                   -0.000384            0.013263  0.020833  \n",
       "Marital_Status                0.015138            0.019473 -0.000463  \n",
       "Product_Category_1            0.540583            0.229678 -0.343703  \n",
       "Product_Category_2            1.000000            0.543649 -0.209918  \n",
       "Product_Category_3            0.543649            1.000000 -0.022006  \n",
       "Purchase                     -0.209918           -0.022006  1.000000  "
      ]
     },
     "execution_count": 37,
     "metadata": {},
     "output_type": "execute_result"
    }
   ],
   "source": [
    "data.corr()"
   ]
  },
  {
   "cell_type": "markdown",
   "id": "6029cce2",
   "metadata": {
    "ExecuteTime": {
     "end_time": "2022-09-24T17:43:20.153308Z",
     "start_time": "2022-09-24T17:43:20.137301Z"
    }
   },
   "source": [
    "<h3>HeatMap</h3>"
   ]
  },
  {
   "cell_type": "code",
   "execution_count": 15,
   "id": "05eb4f63",
   "metadata": {
    "ExecuteTime": {
     "end_time": "2022-09-24T17:43:34.682253Z",
     "start_time": "2022-09-24T17:43:34.344188Z"
    }
   },
   "outputs": [
    {
     "data": {
      "image/png": "[encoded data removed]",
      "text/plain": [
       "<Figure size 432x288 with 2 Axes>"
      ]
     },
     "metadata": {
      "needs_background": "light"
     },
     "output_type": "display_data"
    }
   ],
   "source": [
    "sns.heatmap(data.corr(),annot=True)\n",
    "plt.show()"
   ]
  },
  {
   "cell_type": "code",
   "execution_count": null,
   "id": "9f9db5e8",
   "metadata": {},
   "outputs": [],
   "source": []
  }
 ],
 "metadata": {
  "kernelspec": {
   "display_name": "Python 3 (ipykernel)",
   "language": "python",
   "name": "python3"
  },
  "language_info": {
   "codemirror_mode": {
    "name": "ipython",
    "version": 3
   },
   "file_extension": ".py",
   "mimetype": "text/x-python",
   "name": "python",
   "nbconvert_exporter": "python",
   "pygments_lexer": "ipython3",
   "version": "3.9.7"
  }
 },
 "nbformat": 4,
 "nbformat_minor": 5
}
