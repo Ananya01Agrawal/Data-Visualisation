{
 "cells": [
  {
   "cell_type": "code",
   "execution_count": 23,
   "id": "55900e90",
   "metadata": {
    "ExecuteTime": {
     "end_time": "2022-09-29T10:33:31.309973Z",
     "start_time": "2022-09-29T10:33:31.300961Z"
    }
   },
   "outputs": [],
   "source": [
    "# load  python library for data visulization\n",
    "import pandas as pd \n",
    "import statistics as stat\n",
    "import matplotlib.pyplot as plt\n",
    "import seaborn as sns\n",
    "import numpy as np"
   ]
  },
  {
   "cell_type": "code",
   "execution_count": 24,
   "id": "ad203d03",
   "metadata": {
    "ExecuteTime": {
     "end_time": "2022-09-29T10:33:31.403983Z",
     "start_time": "2022-09-29T10:33:31.312974Z"
    }
   },
   "outputs": [],
   "source": [
    "# Load dataset \n",
    "df=pd.read_excel( 'Copy of Dormant Account Survey form (Responses).xlsx')"
   ]
  },
  {
   "cell_type": "code",
   "execution_count": 25,
   "id": "6bcc5a4f",
   "metadata": {
    "ExecuteTime": {
     "end_time": "2022-09-29T10:33:31.450993Z",
     "start_time": "2022-09-29T10:33:31.405984Z"
    }
   },
   "outputs": [
    {
     "data": {
      "text/html": [
       "<div>\n",
       "<style scoped>\n",
       "    .dataframe tbody tr th:only-of-type {\n",
       "        vertical-align: middle;\n",
       "    }\n",
       "\n",
       "    .dataframe tbody tr th {\n",
       "        vertical-align: top;\n",
       "    }\n",
       "\n",
       "    .dataframe thead th {\n",
       "        text-align: right;\n",
       "    }\n",
       "</style>\n",
       "<table border=\"1\" class=\"dataframe\">\n",
       "  <thead>\n",
       "    <tr style=\"text-align: right;\">\n",
       "      <th></th>\n",
       "      <th>Timestamp</th>\n",
       "      <th>Score</th>\n",
       "      <th>Name</th>\n",
       "      <th>Gender</th>\n",
       "      <th>Age</th>\n",
       "      <th>Education qualification</th>\n",
       "      <th>Occupation</th>\n",
       "      <th>If  Other  then Please Specify</th>\n",
       "      <th>Account NO(not manadatory to disclose)</th>\n",
       "      <th>Account Type</th>\n",
       "      <th>...</th>\n",
       "      <th>Do you have active Credit Card with this account</th>\n",
       "      <th>Did any suspicious transaction reported in your account</th>\n",
       "      <th>Have you ever defaulted any loan payment</th>\n",
       "      <th>Are you satisfied with the service provided by bank</th>\n",
       "      <th>Current Status of your accounts</th>\n",
       "      <th>Please suggest if any important performance indicator is missing from the above</th>\n",
       "      <th>If Yes then Please Specify</th>\n",
       "      <th>Received any service call from bank  in 24 month with reference to  your account.</th>\n",
       "      <th>if Other Account then Please Specify</th>\n",
       "      <th>Transaction done in 24 month</th>\n",
       "    </tr>\n",
       "  </thead>\n",
       "  <tbody>\n",
       "    <tr>\n",
       "      <th>0</th>\n",
       "      <td>2021-03-11 12:38:22.586</td>\n",
       "      <td>0.0</td>\n",
       "      <td>Karuna</td>\n",
       "      <td>Female</td>\n",
       "      <td>26.0</td>\n",
       "      <td>Graduate</td>\n",
       "      <td>Student</td>\n",
       "      <td>NaN</td>\n",
       "      <td>23307890.0</td>\n",
       "      <td>Current</td>\n",
       "      <td>...</td>\n",
       "      <td>Debit Card</td>\n",
       "      <td>No</td>\n",
       "      <td>No</td>\n",
       "      <td>No</td>\n",
       "      <td>Inactive( not active since last 12 month)</td>\n",
       "      <td>Due to distance and no branch near by</td>\n",
       "      <td>NaN</td>\n",
       "      <td>NaN</td>\n",
       "      <td>NaN</td>\n",
       "      <td>NaN</td>\n",
       "    </tr>\n",
       "    <tr>\n",
       "      <th>1</th>\n",
       "      <td>2021-03-11 13:40:07.626</td>\n",
       "      <td>0.0</td>\n",
       "      <td>Punith Kumar</td>\n",
       "      <td>Male</td>\n",
       "      <td>27.0</td>\n",
       "      <td>Post Graduate</td>\n",
       "      <td>Salaried</td>\n",
       "      <td>NaN</td>\n",
       "      <td>1234975308642.0</td>\n",
       "      <td>Savings</td>\n",
       "      <td>...</td>\n",
       "      <td>Debit Card</td>\n",
       "      <td>No</td>\n",
       "      <td>No</td>\n",
       "      <td>No</td>\n",
       "      <td>Dormant( not active since last 24 month)</td>\n",
       "      <td>After relocating to a different place, Changin...</td>\n",
       "      <td>NaN</td>\n",
       "      <td>NaN</td>\n",
       "      <td>NaN</td>\n",
       "      <td>NaN</td>\n",
       "    </tr>\n",
       "    <tr>\n",
       "      <th>2</th>\n",
       "      <td>2021-03-11 13:51:01.431</td>\n",
       "      <td>0.0</td>\n",
       "      <td>Vijay</td>\n",
       "      <td>Male</td>\n",
       "      <td>56.0</td>\n",
       "      <td>Graduate</td>\n",
       "      <td>Salaried</td>\n",
       "      <td>NaN</td>\n",
       "      <td>362961593751.0</td>\n",
       "      <td>saving</td>\n",
       "      <td>...</td>\n",
       "      <td>Debit Card</td>\n",
       "      <td>Yes</td>\n",
       "      <td>No</td>\n",
       "      <td>yes</td>\n",
       "      <td>Active</td>\n",
       "      <td>NaN</td>\n",
       "      <td>NaN</td>\n",
       "      <td>NaN</td>\n",
       "      <td>NaN</td>\n",
       "      <td>NaN</td>\n",
       "    </tr>\n",
       "    <tr>\n",
       "      <th>3</th>\n",
       "      <td>2021-03-11 14:06:49.086</td>\n",
       "      <td>0.0</td>\n",
       "      <td>vijay</td>\n",
       "      <td>Male</td>\n",
       "      <td>55.0</td>\n",
       "      <td>Graduate</td>\n",
       "      <td>Student</td>\n",
       "      <td>NaN</td>\n",
       "      <td>726261915262.0</td>\n",
       "      <td>saving</td>\n",
       "      <td>...</td>\n",
       "      <td>Debit Card</td>\n",
       "      <td>Yes</td>\n",
       "      <td>No</td>\n",
       "      <td>yes</td>\n",
       "      <td>Active</td>\n",
       "      <td>NaN</td>\n",
       "      <td>NaN</td>\n",
       "      <td>NaN</td>\n",
       "      <td>NaN</td>\n",
       "      <td>NaN</td>\n",
       "    </tr>\n",
       "    <tr>\n",
       "      <th>4</th>\n",
       "      <td>2021-03-11 17:26:10.122</td>\n",
       "      <td>0.0</td>\n",
       "      <td>Ankit Kumar Sinha</td>\n",
       "      <td>Male</td>\n",
       "      <td>26.0</td>\n",
       "      <td>Graduate</td>\n",
       "      <td>Student</td>\n",
       "      <td>NaN</td>\n",
       "      <td>210000000000.0</td>\n",
       "      <td>Saving</td>\n",
       "      <td>...</td>\n",
       "      <td>Debit Card</td>\n",
       "      <td>No</td>\n",
       "      <td>No</td>\n",
       "      <td>yes</td>\n",
       "      <td>Active</td>\n",
       "      <td>Good</td>\n",
       "      <td>NaN</td>\n",
       "      <td>NaN</td>\n",
       "      <td>NaN</td>\n",
       "      <td>NaN</td>\n",
       "    </tr>\n",
       "  </tbody>\n",
       "</table>\n",
       "<p>5 rows × 34 columns</p>\n",
       "</div>"
      ],
      "text/plain": [
       "                Timestamp  Score               Name  Gender   Age  \\\n",
       "0 2021-03-11 12:38:22.586    0.0             Karuna  Female  26.0   \n",
       "1 2021-03-11 13:40:07.626    0.0       Punith Kumar    Male  27.0   \n",
       "2 2021-03-11 13:51:01.431    0.0              Vijay    Male  56.0   \n",
       "3 2021-03-11 14:06:49.086    0.0              vijay    Male  55.0   \n",
       "4 2021-03-11 17:26:10.122    0.0  Ankit Kumar Sinha    Male  26.0   \n",
       "\n",
       "  Education qualification Occupation If  Other  then Please Specify  \\\n",
       "0                Graduate    Student                            NaN   \n",
       "1           Post Graduate   Salaried                            NaN   \n",
       "2                Graduate   Salaried                            NaN   \n",
       "3                Graduate    Student                            NaN   \n",
       "4                Graduate    Student                            NaN   \n",
       "\n",
       "  Account NO(not manadatory to disclose) Account Type  ...  \\\n",
       "0                             23307890.0     Current   ...   \n",
       "1                        1234975308642.0      Savings  ...   \n",
       "2                         362961593751.0       saving  ...   \n",
       "3                         726261915262.0       saving  ...   \n",
       "4                         210000000000.0       Saving  ...   \n",
       "\n",
       "  Do you have active Credit Card with this account  \\\n",
       "0                                       Debit Card   \n",
       "1                                       Debit Card   \n",
       "2                                       Debit Card   \n",
       "3                                       Debit Card   \n",
       "4                                       Debit Card   \n",
       "\n",
       "  Did any suspicious transaction reported in your account  \\\n",
       "0                                                 No        \n",
       "1                                                 No        \n",
       "2                                                Yes        \n",
       "3                                                Yes        \n",
       "4                                                 No        \n",
       "\n",
       "  Have you ever defaulted any loan payment  \\\n",
       "0                                       No   \n",
       "1                                       No   \n",
       "2                                       No   \n",
       "3                                       No   \n",
       "4                                       No   \n",
       "\n",
       "  Are you satisfied with the service provided by bank  \\\n",
       "0                                                 No    \n",
       "1                                                 No    \n",
       "2                                                yes    \n",
       "3                                                yes    \n",
       "4                                                yes    \n",
       "\n",
       "             Current Status of your accounts  \\\n",
       "0  Inactive( not active since last 12 month)   \n",
       "1   Dormant( not active since last 24 month)   \n",
       "2                                     Active   \n",
       "3                                     Active   \n",
       "4                                     Active   \n",
       "\n",
       "  Please suggest if any important performance indicator is missing from the above  \\\n",
       "0              Due to distance and no branch near by                                \n",
       "1  After relocating to a different place, Changin...                                \n",
       "2                                                NaN                                \n",
       "3                                                NaN                                \n",
       "4                                               Good                                \n",
       "\n",
       "  If Yes then Please Specify  \\\n",
       "0                        NaN   \n",
       "1                        NaN   \n",
       "2                        NaN   \n",
       "3                        NaN   \n",
       "4                        NaN   \n",
       "\n",
       "  Received any service call from bank  in 24 month with reference to  your account.  \\\n",
       "0                                                NaN                                  \n",
       "1                                                NaN                                  \n",
       "2                                                NaN                                  \n",
       "3                                                NaN                                  \n",
       "4                                                NaN                                  \n",
       "\n",
       "  if Other Account then Please Specify  Transaction done in 24 month  \n",
       "0                                  NaN                           NaN  \n",
       "1                                  NaN                           NaN  \n",
       "2                                  NaN                           NaN  \n",
       "3                                  NaN                           NaN  \n",
       "4                                  NaN                           NaN  \n",
       "\n",
       "[5 rows x 34 columns]"
      ]
     },
     "execution_count": 25,
     "metadata": {},
     "output_type": "execute_result"
    }
   ],
   "source": [
    "# Read top 5 rows\n",
    "df.head()"
   ]
  },
  {
   "cell_type": "code",
   "execution_count": 26,
   "id": "dd8e0ae5",
   "metadata": {
    "ExecuteTime": {
     "end_time": "2022-09-29T10:33:31.482010Z",
     "start_time": "2022-09-29T10:33:31.454995Z"
    }
   },
   "outputs": [
    {
     "data": {
      "text/html": [
       "<div>\n",
       "<style scoped>\n",
       "    .dataframe tbody tr th:only-of-type {\n",
       "        vertical-align: middle;\n",
       "    }\n",
       "\n",
       "    .dataframe tbody tr th {\n",
       "        vertical-align: top;\n",
       "    }\n",
       "\n",
       "    .dataframe thead th {\n",
       "        text-align: right;\n",
       "    }\n",
       "</style>\n",
       "<table border=\"1\" class=\"dataframe\">\n",
       "  <thead>\n",
       "    <tr style=\"text-align: right;\">\n",
       "      <th></th>\n",
       "      <th>Timestamp</th>\n",
       "      <th>Score</th>\n",
       "      <th>Name</th>\n",
       "      <th>Gender</th>\n",
       "      <th>Age</th>\n",
       "      <th>Education qualification</th>\n",
       "      <th>Occupation</th>\n",
       "      <th>If  Other  then Please Specify</th>\n",
       "      <th>Account NO(not manadatory to disclose)</th>\n",
       "      <th>Account Type</th>\n",
       "      <th>...</th>\n",
       "      <th>Do you have active Credit Card with this account</th>\n",
       "      <th>Did any suspicious transaction reported in your account</th>\n",
       "      <th>Have you ever defaulted any loan payment</th>\n",
       "      <th>Are you satisfied with the service provided by bank</th>\n",
       "      <th>Current Status of your accounts</th>\n",
       "      <th>Please suggest if any important performance indicator is missing from the above</th>\n",
       "      <th>If Yes then Please Specify</th>\n",
       "      <th>Received any service call from bank  in 24 month with reference to  your account.</th>\n",
       "      <th>if Other Account then Please Specify</th>\n",
       "      <th>Transaction done in 24 month</th>\n",
       "    </tr>\n",
       "  </thead>\n",
       "  <tbody>\n",
       "    <tr>\n",
       "      <th>84</th>\n",
       "      <td>2021-03-14 21:42:24.969</td>\n",
       "      <td>0.0</td>\n",
       "      <td>I B Pandey</td>\n",
       "      <td>Male</td>\n",
       "      <td>39.0</td>\n",
       "      <td>Post Graduate</td>\n",
       "      <td>Business</td>\n",
       "      <td>NaN</td>\n",
       "      <td>229536547215.0</td>\n",
       "      <td>Savings</td>\n",
       "      <td>...</td>\n",
       "      <td>No</td>\n",
       "      <td>No</td>\n",
       "      <td>No</td>\n",
       "      <td>No</td>\n",
       "      <td>Dormant( not active since last 24 month)</td>\n",
       "      <td>NaN</td>\n",
       "      <td>NaN</td>\n",
       "      <td>No</td>\n",
       "      <td>NaN</td>\n",
       "      <td>No</td>\n",
       "    </tr>\n",
       "    <tr>\n",
       "      <th>85</th>\n",
       "      <td>2021-03-14 22:02:15.836</td>\n",
       "      <td>0.0</td>\n",
       "      <td>aakash srivastava</td>\n",
       "      <td>Male</td>\n",
       "      <td>32.0</td>\n",
       "      <td>Post Graduate</td>\n",
       "      <td>Salaried</td>\n",
       "      <td>NaN</td>\n",
       "      <td>NaN</td>\n",
       "      <td>Salaried</td>\n",
       "      <td>...</td>\n",
       "      <td>No</td>\n",
       "      <td>No</td>\n",
       "      <td>Yes</td>\n",
       "      <td>No</td>\n",
       "      <td>Dormant( not active since last 24 month)</td>\n",
       "      <td>due to relocation and poor service I changed m...</td>\n",
       "      <td>NaN</td>\n",
       "      <td>No</td>\n",
       "      <td>NaN</td>\n",
       "      <td>No</td>\n",
       "    </tr>\n",
       "    <tr>\n",
       "      <th>86</th>\n",
       "      <td>2021-03-14 22:04:42.390</td>\n",
       "      <td>0.0</td>\n",
       "      <td>neelam yadav</td>\n",
       "      <td>Female</td>\n",
       "      <td>36.0</td>\n",
       "      <td>Post Graduate</td>\n",
       "      <td>Salaried</td>\n",
       "      <td>NaN</td>\n",
       "      <td>NaN</td>\n",
       "      <td>Savings</td>\n",
       "      <td>...</td>\n",
       "      <td>No</td>\n",
       "      <td>No</td>\n",
       "      <td>Yes</td>\n",
       "      <td>No</td>\n",
       "      <td>Dormant( not active since last 24 month)</td>\n",
       "      <td>NaN</td>\n",
       "      <td>NaN</td>\n",
       "      <td>No</td>\n",
       "      <td>NaN</td>\n",
       "      <td>No</td>\n",
       "    </tr>\n",
       "    <tr>\n",
       "      <th>87</th>\n",
       "      <td>2021-03-15 13:58:48.650</td>\n",
       "      <td>0.0</td>\n",
       "      <td>Hari krishna</td>\n",
       "      <td>Male</td>\n",
       "      <td>29.0</td>\n",
       "      <td>Post Graduate</td>\n",
       "      <td>Salaried</td>\n",
       "      <td>NaN</td>\n",
       "      <td>NaN</td>\n",
       "      <td>Salaried</td>\n",
       "      <td>...</td>\n",
       "      <td>Yes</td>\n",
       "      <td>No</td>\n",
       "      <td>No</td>\n",
       "      <td>Need Improvement</td>\n",
       "      <td>Active</td>\n",
       "      <td>NaN</td>\n",
       "      <td>All  of the above</td>\n",
       "      <td>Yes</td>\n",
       "      <td>NaN</td>\n",
       "      <td>Yes</td>\n",
       "    </tr>\n",
       "    <tr>\n",
       "      <th>88</th>\n",
       "      <td>2021-03-14 19:24:40.000</td>\n",
       "      <td>NaN</td>\n",
       "      <td>Ridhi Kumari</td>\n",
       "      <td>Female</td>\n",
       "      <td>36.0</td>\n",
       "      <td>Graduate</td>\n",
       "      <td>Salaried</td>\n",
       "      <td>NaN</td>\n",
       "      <td>NaN</td>\n",
       "      <td>NaN</td>\n",
       "      <td>...</td>\n",
       "      <td>No</td>\n",
       "      <td>No</td>\n",
       "      <td>No</td>\n",
       "      <td>NaN</td>\n",
       "      <td>Dormant( not active since last 24 month)</td>\n",
       "      <td>NaN</td>\n",
       "      <td>NaN</td>\n",
       "      <td>No</td>\n",
       "      <td>NaN</td>\n",
       "      <td>No</td>\n",
       "    </tr>\n",
       "  </tbody>\n",
       "</table>\n",
       "<p>5 rows × 34 columns</p>\n",
       "</div>"
      ],
      "text/plain": [
       "                 Timestamp  Score               Name  Gender   Age  \\\n",
       "84 2021-03-14 21:42:24.969    0.0        I B Pandey     Male  39.0   \n",
       "85 2021-03-14 22:02:15.836    0.0  aakash srivastava    Male  32.0   \n",
       "86 2021-03-14 22:04:42.390    0.0       neelam yadav  Female  36.0   \n",
       "87 2021-03-15 13:58:48.650    0.0      Hari krishna     Male  29.0   \n",
       "88 2021-03-14 19:24:40.000    NaN       Ridhi Kumari  Female  36.0   \n",
       "\n",
       "   Education qualification Occupation If  Other  then Please Specify  \\\n",
       "84           Post Graduate   Business                            NaN   \n",
       "85           Post Graduate   Salaried                            NaN   \n",
       "86           Post Graduate   Salaried                            NaN   \n",
       "87           Post Graduate   Salaried                            NaN   \n",
       "88                Graduate   Salaried                            NaN   \n",
       "\n",
       "   Account NO(not manadatory to disclose) Account Type  ...  \\\n",
       "84                         229536547215.0      Savings  ...   \n",
       "85                                    NaN     Salaried  ...   \n",
       "86                                    NaN      Savings  ...   \n",
       "87                                    NaN     Salaried  ...   \n",
       "88                                    NaN          NaN  ...   \n",
       "\n",
       "   Do you have active Credit Card with this account  \\\n",
       "84                                               No   \n",
       "85                                               No   \n",
       "86                                               No   \n",
       "87                                              Yes   \n",
       "88                                               No   \n",
       "\n",
       "   Did any suspicious transaction reported in your account  \\\n",
       "84                                                 No        \n",
       "85                                                 No        \n",
       "86                                                 No        \n",
       "87                                                 No        \n",
       "88                                                 No        \n",
       "\n",
       "   Have you ever defaulted any loan payment  \\\n",
       "84                                       No   \n",
       "85                                      Yes   \n",
       "86                                      Yes   \n",
       "87                                       No   \n",
       "88                                       No   \n",
       "\n",
       "   Are you satisfied with the service provided by bank  \\\n",
       "84                                                 No    \n",
       "85                                                 No    \n",
       "86                                                 No    \n",
       "87                                   Need Improvement    \n",
       "88                                                NaN    \n",
       "\n",
       "             Current Status of your accounts  \\\n",
       "84  Dormant( not active since last 24 month)   \n",
       "85  Dormant( not active since last 24 month)   \n",
       "86  Dormant( not active since last 24 month)   \n",
       "87                                    Active   \n",
       "88  Dormant( not active since last 24 month)   \n",
       "\n",
       "   Please suggest if any important performance indicator is missing from the above  \\\n",
       "84                                                NaN                                \n",
       "85  due to relocation and poor service I changed m...                                \n",
       "86                                                NaN                                \n",
       "87                                                NaN                                \n",
       "88                                                NaN                                \n",
       "\n",
       "   If Yes then Please Specify  \\\n",
       "84                        NaN   \n",
       "85                        NaN   \n",
       "86                        NaN   \n",
       "87          All  of the above   \n",
       "88                        NaN   \n",
       "\n",
       "   Received any service call from bank  in 24 month with reference to  your account.  \\\n",
       "84                                                 No                                  \n",
       "85                                                 No                                  \n",
       "86                                                 No                                  \n",
       "87                                                Yes                                  \n",
       "88                                                 No                                  \n",
       "\n",
       "   if Other Account then Please Specify  Transaction done in 24 month  \n",
       "84                                  NaN                            No  \n",
       "85                                  NaN                            No  \n",
       "86                                  NaN                            No  \n",
       "87                                  NaN                           Yes  \n",
       "88                                  NaN                            No  \n",
       "\n",
       "[5 rows x 34 columns]"
      ]
     },
     "execution_count": 26,
     "metadata": {},
     "output_type": "execute_result"
    }
   ],
   "source": [
    "# Read bottom 5 rows \n",
    "df.tail()"
   ]
  },
  {
   "cell_type": "code",
   "execution_count": 27,
   "id": "2401586e",
   "metadata": {
    "ExecuteTime": {
     "end_time": "2022-09-29T10:33:31.498019Z",
     "start_time": "2022-09-29T10:33:31.484001Z"
    }
   },
   "outputs": [
    {
     "data": {
      "text/plain": [
       "Index(['Timestamp', 'Score', 'Name', 'Gender', 'Age',\n",
       "       'Education qualification', 'Occupation',\n",
       "       'If  Other  then Please Specify',\n",
       "       'Account NO(not manadatory to disclose)', 'Account Type', 'City',\n",
       "       'Branch', 'Current City', 'House Distance from Bank(in KM)',\n",
       "       'Opening Balance', 'Having Minimum Balance', 'Current Balance',\n",
       "       'Month and year  when the last transaction was done in 24 month(for ex Jan -2021, Mar-2018 etc)',\n",
       "       'Quarterly Activity Rate(no of transaction in 3 month)',\n",
       "       'Do you have multiple account',\n",
       "       'if Yes then in which Bank(please use ; to seperate the bank names)',\n",
       "       'Do you have an active  loan ',\n",
       "       'Do you have Internet Banking or mobile banking with this  account',\n",
       "       'if yes then which one',\n",
       "       'Do you have active Credit Card with this account',\n",
       "       'Did any suspicious transaction reported in your account',\n",
       "       'Have you ever defaulted any loan payment',\n",
       "       'Are you satisfied with the service provided by bank',\n",
       "       'Current Status of your accounts',\n",
       "       'Please suggest if any important performance indicator is missing from the above',\n",
       "       'If Yes then Please Specify',\n",
       "       'Received any service call from bank  in 24 month with reference to  your account.',\n",
       "       'if Other Account then Please Specify',\n",
       "       ' Transaction done in 24 month'],\n",
       "      dtype='object')"
      ]
     },
     "execution_count": 27,
     "metadata": {},
     "output_type": "execute_result"
    }
   ],
   "source": [
    "# Known total column\n",
    "df.columns"
   ]
  },
  {
   "cell_type": "code",
   "execution_count": 28,
   "id": "bd0938b5",
   "metadata": {
    "ExecuteTime": {
     "end_time": "2022-09-29T10:33:31.529012Z",
     "start_time": "2022-09-29T10:33:31.501010Z"
    }
   },
   "outputs": [
    {
     "name": "stdout",
     "output_type": "stream",
     "text": [
      "<class 'pandas.core.frame.DataFrame'>\n",
      "RangeIndex: 89 entries, 0 to 88\n",
      "Data columns (total 34 columns):\n",
      " #   Column                                                                                          Non-Null Count  Dtype         \n",
      "---  ------                                                                                          --------------  -----         \n",
      " 0   Timestamp                                                                                       89 non-null     datetime64[ns]\n",
      " 1   Score                                                                                           88 non-null     float64       \n",
      " 2   Name                                                                                            89 non-null     object        \n",
      " 3   Gender                                                                                          89 non-null     object        \n",
      " 4   Age                                                                                             89 non-null     float64       \n",
      " 5   Education qualification                                                                         89 non-null     object        \n",
      " 6   Occupation                                                                                      89 non-null     object        \n",
      " 7   If  Other  then Please Specify                                                                  9 non-null      object        \n",
      " 8   Account NO(not manadatory to disclose)                                                          29 non-null     object        \n",
      " 9   Account Type                                                                                    88 non-null     object        \n",
      " 10  City                                                                                            88 non-null     object        \n",
      " 11  Branch                                                                                          88 non-null     object        \n",
      " 12  Current City                                                                                    89 non-null     object        \n",
      " 13  House Distance from Bank(in KM)                                                                 88 non-null     object        \n",
      " 14  Opening Balance                                                                                 88 non-null     object        \n",
      " 15  Having Minimum Balance                                                                          88 non-null     object        \n",
      " 16  Current Balance                                                                                 88 non-null     object        \n",
      " 17  Month and year  when the last transaction was done in 24 month(for ex Jan -2021, Mar-2018 etc)  73 non-null     object        \n",
      " 18  Quarterly Activity Rate(no of transaction in 3 month)                                           64 non-null     object        \n",
      " 19  Do you have multiple account                                                                    88 non-null     object        \n",
      " 20  if Yes then in which Bank(please use ; to seperate the bank names)                              47 non-null     object        \n",
      " 21  Do you have an active  loan                                                                     88 non-null     object        \n",
      " 22  Do you have Internet Banking or mobile banking with this  account                               88 non-null     object        \n",
      " 23  if yes then which one                                                                           54 non-null     object        \n",
      " 24  Do you have active Credit Card with this account                                                89 non-null     object        \n",
      " 25  Did any suspicious transaction reported in your account                                         89 non-null     object        \n",
      " 26  Have you ever defaulted any loan payment                                                        89 non-null     object        \n",
      " 27  Are you satisfied with the service provided by bank                                             88 non-null     object        \n",
      " 28  Current Status of your accounts                                                                 89 non-null     object        \n",
      " 29  Please suggest if any important performance indicator is missing from the above                 24 non-null     object        \n",
      " 30  If Yes then Please Specify                                                                      50 non-null     object        \n",
      " 31  Received any service call from bank  in 24 month with reference to  your account.               71 non-null     object        \n",
      " 32  if Other Account then Please Specify                                                            6 non-null      object        \n",
      " 33   Transaction done in 24 month                                                                   77 non-null     object        \n",
      "dtypes: datetime64[ns](1), float64(2), object(31)\n",
      "memory usage: 23.8+ KB\n"
     ]
    }
   ],
   "source": [
    "# Know information of dataset\n",
    "df.info()"
   ]
  },
  {
   "cell_type": "code",
   "execution_count": 29,
   "id": "2585f70c",
   "metadata": {
    "ExecuteTime": {
     "end_time": "2022-09-29T10:33:31.545016Z",
     "start_time": "2022-09-29T10:33:31.532013Z"
    }
   },
   "outputs": [
    {
     "data": {
      "text/plain": [
       "Timestamp                                                                                         89\n",
       "Score                                                                                              1\n",
       "Name                                                                                              81\n",
       "Gender                                                                                             2\n",
       "Age                                                                                               25\n",
       "Education qualification                                                                            5\n",
       "Occupation                                                                                         5\n",
       "If  Other  then Please Specify                                                                     8\n",
       "Account NO(not manadatory to disclose)                                                            28\n",
       "Account Type                                                                                      10\n",
       "City                                                                                              58\n",
       "Branch                                                                                            78\n",
       "Current City                                                                                      50\n",
       "House Distance from Bank(in KM)                                                                   45\n",
       "Opening Balance                                                                                   18\n",
       "Having Minimum Balance                                                                             2\n",
       "Current Balance                                                                                   53\n",
       "Month and year  when the last transaction was done in 24 month(for ex Jan -2021, Mar-2018 etc)    54\n",
       "Quarterly Activity Rate(no of transaction in 3 month)                                             30\n",
       "Do you have multiple account                                                                       3\n",
       "if Yes then in which Bank(please use ; to seperate the bank names)                                36\n",
       "Do you have an active  loan                                                                        2\n",
       "Do you have Internet Banking or mobile banking with this  account                                  2\n",
       "if yes then which one                                                                              3\n",
       "Do you have active Credit Card with this account                                                   3\n",
       "Did any suspicious transaction reported in your account                                            2\n",
       "Have you ever defaulted any loan payment                                                           2\n",
       "Are you satisfied with the service provided by bank                                                3\n",
       "Current Status of your accounts                                                                    3\n",
       "Please suggest if any important performance indicator is missing from the above                   22\n",
       "If Yes then Please Specify                                                                         5\n",
       "Received any service call from bank  in 24 month with reference to  your account.                  2\n",
       "if Other Account then Please Specify                                                               5\n",
       " Transaction done in 24 month                                                                      2\n",
       "dtype: int64"
      ]
     },
     "execution_count": 29,
     "metadata": {},
     "output_type": "execute_result"
    }
   ],
   "source": [
    "df.nunique()"
   ]
  },
  {
   "cell_type": "code",
   "execution_count": 30,
   "id": "30702736",
   "metadata": {
    "ExecuteTime": {
     "end_time": "2022-09-29T10:33:31.575023Z",
     "start_time": "2022-09-29T10:33:31.553020Z"
    }
   },
   "outputs": [
    {
     "data": {
      "text/plain": [
       "Timestamp                                                                                         datetime64[ns]\n",
       "Score                                                                                                    float64\n",
       "Name                                                                                                      object\n",
       "Gender                                                                                                    object\n",
       "Age                                                                                                      float64\n",
       "Education qualification                                                                                   object\n",
       "Occupation                                                                                                object\n",
       "If  Other  then Please Specify                                                                            object\n",
       "Account NO(not manadatory to disclose)                                                                    object\n",
       "Account Type                                                                                              object\n",
       "City                                                                                                      object\n",
       "Branch                                                                                                    object\n",
       "Current City                                                                                              object\n",
       "House Distance from Bank(in KM)                                                                           object\n",
       "Opening Balance                                                                                           object\n",
       "Having Minimum Balance                                                                                    object\n",
       "Current Balance                                                                                           object\n",
       "Month and year  when the last transaction was done in 24 month(for ex Jan -2021, Mar-2018 etc)            object\n",
       "Quarterly Activity Rate(no of transaction in 3 month)                                                     object\n",
       "Do you have multiple account                                                                              object\n",
       "if Yes then in which Bank(please use ; to seperate the bank names)                                        object\n",
       "Do you have an active  loan                                                                               object\n",
       "Do you have Internet Banking or mobile banking with this  account                                         object\n",
       "if yes then which one                                                                                     object\n",
       "Do you have active Credit Card with this account                                                          object\n",
       "Did any suspicious transaction reported in your account                                                   object\n",
       "Have you ever defaulted any loan payment                                                                  object\n",
       "Are you satisfied with the service provided by bank                                                       object\n",
       "Current Status of your accounts                                                                           object\n",
       "Please suggest if any important performance indicator is missing from the above                           object\n",
       "If Yes then Please Specify                                                                                object\n",
       "Received any service call from bank  in 24 month with reference to  your account.                         object\n",
       "if Other Account then Please Specify                                                                      object\n",
       " Transaction done in 24 month                                                                             object\n",
       "dtype: object"
      ]
     },
     "execution_count": 30,
     "metadata": {},
     "output_type": "execute_result"
    }
   ],
   "source": [
    "df.dtypes"
   ]
  },
  {
   "cell_type": "code",
   "execution_count": 31,
   "id": "b2707f2b",
   "metadata": {
    "ExecuteTime": {
     "end_time": "2022-09-29T10:33:31.687056Z",
     "start_time": "2022-09-29T10:33:31.579024Z"
    }
   },
   "outputs": [
    {
     "name": "stderr",
     "output_type": "stream",
     "text": [
      "C:\\Users\\ANANYA AGRAWAL\\anaconda3\\lib\\site-packages\\seaborn\\_decorators.py:36: FutureWarning: Pass the following variable as a keyword arg: x. From version 0.12, the only valid positional argument will be `data`, and passing other arguments without an explicit keyword will result in an error or misinterpretation.\n",
      "  warnings.warn(\n"
     ]
    },
    {
     "data": {
      "text/plain": [
       "<AxesSubplot:xlabel='Are you satisfied with the service provided by bank', ylabel='count'>"
      ]
     },
     "execution_count": 31,
     "metadata": {},
     "output_type": "execute_result"
    },
    {
     "data": {
      "image/png": "[encoded data removed]",
      "text/plain": [
       "<Figure size 432x288 with 1 Axes>"
      ]
     },
     "metadata": {
      "needs_background": "light"
     },
     "output_type": "display_data"
    }
   ],
   "source": [
    "#Check how many are not stasified by service of bank \n",
    "x=df['Are you satisfied with the service provided by bank']\n",
    "sns.countplot(x)"
   ]
  },
  {
   "cell_type": "code",
   "execution_count": 32,
   "id": "875bbdf2",
   "metadata": {
    "ExecuteTime": {
     "end_time": "2022-09-29T10:33:31.815076Z",
     "start_time": "2022-09-29T10:33:31.693049Z"
    }
   },
   "outputs": [
    {
     "name": "stderr",
     "output_type": "stream",
     "text": [
      "C:\\Users\\ANANYA AGRAWAL\\anaconda3\\lib\\site-packages\\seaborn\\_decorators.py:36: FutureWarning: Pass the following variable as a keyword arg: x. From version 0.12, the only valid positional argument will be `data`, and passing other arguments without an explicit keyword will result in an error or misinterpretation.\n",
      "  warnings.warn(\n"
     ]
    },
    {
     "data": {
      "text/plain": [
       "<AxesSubplot:xlabel='Current Status of your accounts', ylabel='count'>"
      ]
     },
     "execution_count": 32,
     "metadata": {},
     "output_type": "execute_result"
    },
    {
     "data": {
      "image/png": "[encoded data removed]",
      "text/plain": [
       "<Figure size 432x288 with 1 Axes>"
      ]
     },
     "metadata": {
      "needs_background": "light"
     },
     "output_type": "display_data"
    }
   ],
   "source": [
    "x=df['Current Status of your accounts']\n",
    "sns.countplot(x)\n"
   ]
  },
  {
   "cell_type": "code",
   "execution_count": 33,
   "id": "efd0bcf6",
   "metadata": {
    "ExecuteTime": {
     "end_time": "2022-09-29T10:33:31.926109Z",
     "start_time": "2022-09-29T10:33:31.818078Z"
    }
   },
   "outputs": [
    {
     "name": "stderr",
     "output_type": "stream",
     "text": [
      "C:\\Users\\ANANYA AGRAWAL\\anaconda3\\lib\\site-packages\\seaborn\\_decorators.py:36: FutureWarning: Pass the following variable as a keyword arg: x. From version 0.12, the only valid positional argument will be `data`, and passing other arguments without an explicit keyword will result in an error or misinterpretation.\n",
      "  warnings.warn(\n"
     ]
    },
    {
     "data": {
      "text/plain": [
       "<AxesSubplot:xlabel='Have you ever defaulted any loan payment', ylabel='count'>"
      ]
     },
     "execution_count": 33,
     "metadata": {},
     "output_type": "execute_result"
    },
    {
     "data": {
      "image/png": "[encoded data removed]",
      "text/plain": [
       "<Figure size 432x288 with 1 Axes>"
      ]
     },
     "metadata": {
      "needs_background": "light"
     },
     "output_type": "display_data"
    }
   ],
   "source": [
    "x=df['Have you ever defaulted any loan payment']\n",
    "sns.countplot(x)"
   ]
  },
  {
   "cell_type": "code",
   "execution_count": 34,
   "id": "d99b31ea",
   "metadata": {
    "ExecuteTime": {
     "end_time": "2022-09-29T10:33:32.022123Z",
     "start_time": "2022-09-29T10:33:31.928103Z"
    }
   },
   "outputs": [
    {
     "name": "stderr",
     "output_type": "stream",
     "text": [
      "C:\\Users\\ANANYA AGRAWAL\\anaconda3\\lib\\site-packages\\seaborn\\_decorators.py:36: FutureWarning: Pass the following variable as a keyword arg: x. From version 0.12, the only valid positional argument will be `data`, and passing other arguments without an explicit keyword will result in an error or misinterpretation.\n",
      "  warnings.warn(\n"
     ]
    },
    {
     "data": {
      "text/plain": [
       "<AxesSubplot:xlabel='Do you have an active  loan ', ylabel='count'>"
      ]
     },
     "execution_count": 34,
     "metadata": {},
     "output_type": "execute_result"
    },
    {
     "data": {
      "image/png": "[encoded data removed]",
      "text/plain": [
       "<Figure size 432x288 with 1 Axes>"
      ]
     },
     "metadata": {
      "needs_background": "light"
     },
     "output_type": "display_data"
    }
   ],
   "source": [
    "x=df['Do you have an active  loan ']\n",
    "sns.countplot(x)"
   ]
  },
  {
   "cell_type": "code",
   "execution_count": 35,
   "id": "b736200a",
   "metadata": {
    "ExecuteTime": {
     "end_time": "2022-09-29T10:33:32.102169Z",
     "start_time": "2022-09-29T10:33:32.024124Z"
    }
   },
   "outputs": [
    {
     "name": "stderr",
     "output_type": "stream",
     "text": [
      "C:\\Users\\ANANYA AGRAWAL\\anaconda3\\lib\\site-packages\\seaborn\\_decorators.py:36: FutureWarning: Pass the following variable as a keyword arg: x. From version 0.12, the only valid positional argument will be `data`, and passing other arguments without an explicit keyword will result in an error or misinterpretation.\n",
      "  warnings.warn(\n"
     ]
    },
    {
     "data": {
      "text/plain": [
       "<AxesSubplot:xlabel=' Transaction done in 24 month', ylabel='count'>"
      ]
     },
     "execution_count": 35,
     "metadata": {},
     "output_type": "execute_result"
    },
    {
     "data": {
      "image/png": "[encoded data removed]",
      "text/plain": [
       "<Figure size 432x288 with 1 Axes>"
      ]
     },
     "metadata": {
      "needs_background": "light"
     },
     "output_type": "display_data"
    }
   ],
   "source": [
    "x=df[' Transaction done in 24 month']\n",
    "sns.countplot(x)"
   ]
  },
  {
   "cell_type": "code",
   "execution_count": 36,
   "id": "019306c5",
   "metadata": {
    "ExecuteTime": {
     "end_time": "2022-09-29T10:33:32.198179Z",
     "start_time": "2022-09-29T10:33:32.103167Z"
    }
   },
   "outputs": [
    {
     "name": "stderr",
     "output_type": "stream",
     "text": [
      "C:\\Users\\ANANYA AGRAWAL\\anaconda3\\lib\\site-packages\\seaborn\\_decorators.py:36: FutureWarning: Pass the following variable as a keyword arg: x. From version 0.12, the only valid positional argument will be `data`, and passing other arguments without an explicit keyword will result in an error or misinterpretation.\n",
      "  warnings.warn(\n"
     ]
    },
    {
     "data": {
      "text/plain": [
       "<AxesSubplot:xlabel='Gender', ylabel='count'>"
      ]
     },
     "execution_count": 36,
     "metadata": {},
     "output_type": "execute_result"
    },
    {
     "data": {
      "image/png": "[encoded data removed]",
      "text/plain": [
       "<Figure size 432x288 with 1 Axes>"
      ]
     },
     "metadata": {
      "needs_background": "light"
     },
     "output_type": "display_data"
    }
   ],
   "source": [
    "x=df['Gender']\n",
    "sns.countplot(x)"
   ]
  },
  {
   "cell_type": "code",
   "execution_count": 37,
   "id": "9aa4d578",
   "metadata": {
    "ExecuteTime": {
     "end_time": "2022-09-29T10:33:32.293238Z",
     "start_time": "2022-09-29T10:33:32.200180Z"
    }
   },
   "outputs": [
    {
     "name": "stderr",
     "output_type": "stream",
     "text": [
      "C:\\Users\\ANANYA AGRAWAL\\anaconda3\\lib\\site-packages\\seaborn\\_decorators.py:36: FutureWarning: Pass the following variable as a keyword arg: x. From version 0.12, the only valid positional argument will be `data`, and passing other arguments without an explicit keyword will result in an error or misinterpretation.\n",
      "  warnings.warn(\n"
     ]
    },
    {
     "data": {
      "text/plain": [
       "<AxesSubplot:xlabel='Having Minimum Balance', ylabel='count'>"
      ]
     },
     "execution_count": 37,
     "metadata": {},
     "output_type": "execute_result"
    },
    {
     "data": {
      "image/png": "[encoded data removed]",
      "text/plain": [
       "<Figure size 432x288 with 1 Axes>"
      ]
     },
     "metadata": {
      "needs_background": "light"
     },
     "output_type": "display_data"
    }
   ],
   "source": [
    "x=df['Having Minimum Balance']\n",
    "sns.countplot(x)"
   ]
  },
  {
   "cell_type": "code",
   "execution_count": 38,
   "id": "0a8ef850",
   "metadata": {
    "ExecuteTime": {
     "end_time": "2022-09-29T10:33:32.389251Z",
     "start_time": "2022-09-29T10:33:32.295231Z"
    }
   },
   "outputs": [
    {
     "name": "stderr",
     "output_type": "stream",
     "text": [
      "C:\\Users\\ANANYA AGRAWAL\\anaconda3\\lib\\site-packages\\seaborn\\_decorators.py:36: FutureWarning: Pass the following variable as a keyword arg: x. From version 0.12, the only valid positional argument will be `data`, and passing other arguments without an explicit keyword will result in an error or misinterpretation.\n",
      "  warnings.warn(\n"
     ]
    },
    {
     "data": {
      "text/plain": [
       "<AxesSubplot:xlabel='Do you have Internet Banking or mobile banking with this  account', ylabel='count'>"
      ]
     },
     "execution_count": 38,
     "metadata": {},
     "output_type": "execute_result"
    },
    {
     "data": {
      "image/png": "[encoded data removed]",
      "text/plain": [
       "<Figure size 432x288 with 1 Axes>"
      ]
     },
     "metadata": {
      "needs_background": "light"
     },
     "output_type": "display_data"
    }
   ],
   "source": [
    "x=df['Do you have Internet Banking or mobile banking with this  account']\n",
    "sns.countplot(x)"
   ]
  },
  {
   "cell_type": "code",
   "execution_count": 39,
   "id": "ec4797bc",
   "metadata": {
    "ExecuteTime": {
     "end_time": "2022-09-29T10:33:32.405264Z",
     "start_time": "2022-09-29T10:33:32.391254Z"
    }
   },
   "outputs": [
    {
     "data": {
      "text/plain": [
       "31.0561797752809"
      ]
     },
     "execution_count": 39,
     "metadata": {},
     "output_type": "execute_result"
    }
   ],
   "source": [
    "# Mean of age\n",
    "df[\"Age\"].mean()"
   ]
  },
  {
   "cell_type": "code",
   "execution_count": 40,
   "id": "b2aef884",
   "metadata": {
    "ExecuteTime": {
     "end_time": "2022-09-29T10:33:32.421260Z",
     "start_time": "2022-09-29T10:33:32.408268Z"
    }
   },
   "outputs": [
    {
     "data": {
      "text/plain": [
       "29.0"
      ]
     },
     "execution_count": 40,
     "metadata": {},
     "output_type": "execute_result"
    }
   ],
   "source": [
    "# Median\n",
    "df[\"Age\"].median()\n"
   ]
  },
  {
   "cell_type": "code",
   "execution_count": 41,
   "id": "03f3f810",
   "metadata": {
    "ExecuteTime": {
     "end_time": "2022-09-29T10:33:32.437263Z",
     "start_time": "2022-09-29T10:33:32.424264Z"
    }
   },
   "outputs": [
    {
     "data": {
      "text/plain": [
       "0    23.0\n",
       "dtype: float64"
      ]
     },
     "execution_count": 41,
     "metadata": {},
     "output_type": "execute_result"
    }
   ],
   "source": [
    "# Mode\n",
    "df[\"Age\"].mode()"
   ]
  },
  {
   "cell_type": "code",
   "execution_count": 42,
   "id": "d171fa7b",
   "metadata": {
    "ExecuteTime": {
     "end_time": "2022-09-29T10:33:32.452266Z",
     "start_time": "2022-09-29T10:33:32.440267Z"
    }
   },
   "outputs": [
    {
     "data": {
      "text/plain": [
       "106.87180796731363"
      ]
     },
     "execution_count": 42,
     "metadata": {},
     "output_type": "execute_result"
    }
   ],
   "source": [
    "# Variance\n",
    "df[\"Age\"].var()"
   ]
  },
  {
   "cell_type": "code",
   "execution_count": 43,
   "id": "37aeeaac",
   "metadata": {
    "ExecuteTime": {
     "end_time": "2022-09-29T10:33:32.468270Z",
     "start_time": "2022-09-29T10:33:32.455267Z"
    }
   },
   "outputs": [
    {
     "data": {
      "text/plain": [
       "10.337882179988009"
      ]
     },
     "execution_count": 43,
     "metadata": {},
     "output_type": "execute_result"
    }
   ],
   "source": [
    "#standard deviation\n",
    "df[\"Age\"].std()"
   ]
  },
  {
   "cell_type": "code",
   "execution_count": 44,
   "id": "eedcf267",
   "metadata": {
    "ExecuteTime": {
     "end_time": "2022-09-29T10:33:32.484274Z",
     "start_time": "2022-09-29T10:33:32.470271Z"
    }
   },
   "outputs": [
    {
     "data": {
      "text/plain": [
       "array([26., 27., 56., 55., 26., 30., 38., 29., 24., 21., 22., 29., 32.,\n",
       "       32., 32., 24., 26., 29., 38., 36., 35., 26., 24., 24., 30., 34.,\n",
       "       26., 28., 38., 21., 22., 23., 26., 23., 27., 26., 23., 21., 34.,\n",
       "       23., 24., 29., 26., 25., 31., 32., 24., 37., 24., 25., 24., 23.,\n",
       "       29., 76., 52., 27., 38., 22., 21., 29., 23., 30., 23., 23., 35.,\n",
       "       62., 23., 34., 37., 24., 22., 22., 65., 37., 36., 37., 23., 31.,\n",
       "       21., 38., 39., 28., 43., 52., 39., 32., 36., 29., 36.])"
      ]
     },
     "execution_count": 44,
     "metadata": {},
     "output_type": "execute_result"
    }
   ],
   "source": [
    "# convert dataset into numpy array\n",
    "arr=df[\"Age\"].to_numpy()\n",
    "arr"
   ]
  },
  {
   "cell_type": "code",
   "execution_count": 45,
   "id": "36142297",
   "metadata": {
    "ExecuteTime": {
     "end_time": "2022-09-29T10:33:32.500276Z",
     "start_time": "2022-09-29T10:33:32.487277Z"
    }
   },
   "outputs": [
    {
     "name": "stdout",
     "output_type": "stream",
     "text": [
      "12.0\n",
      "highest value= 6.0\n",
      "lowest value= 18.0\n"
     ]
    }
   ],
   "source": [
    "q1=np.quantile(arr, .25)\n",
    "q3=np.quantile(arr, .75)\n",
    "IQR=q3-q1\n",
    "print(IQR)\n",
    "print(\"highest value=\",q1-1.5*IQR)\n",
    "print(\"lowest value=\",q3-1.5*IQR)"
   ]
  },
  {
   "cell_type": "code",
   "execution_count": 46,
   "id": "d386a1bf",
   "metadata": {
    "ExecuteTime": {
     "end_time": "2022-09-29T10:33:32.626306Z",
     "start_time": "2022-09-29T10:33:32.502278Z"
    }
   },
   "outputs": [
    {
     "data": {
      "image/png": "[encoded data removed]",
      "text/plain": [
       "<Figure size 432x288 with 1 Axes>"
      ]
     },
     "metadata": {
      "needs_background": "light"
     },
     "output_type": "display_data"
    }
   ],
   "source": [
    "sns.countplot(data = df, hue = \"Gender\", x = \"Occupation\")\n",
    "plt.show()"
   ]
  },
  {
   "cell_type": "code",
   "execution_count": 47,
   "id": "717d91ab",
   "metadata": {
    "ExecuteTime": {
     "end_time": "2022-09-29T10:33:32.722337Z",
     "start_time": "2022-09-29T10:33:32.628307Z"
    }
   },
   "outputs": [
    {
     "name": "stdout",
     "output_type": "stream",
     "text": [
      "Graduate         45\n",
      "Post Graduate    29\n",
      "12th              7\n",
      "Doctrate          6\n",
      "10th              2\n",
      "Name: Education qualification, dtype: int64\n"
     ]
    },
    {
     "data": {
      "image/png": "[encoded data removed]",
      "text/plain": [
       "<Figure size 720x504 with 1 Axes>"
      ]
     },
     "metadata": {},
     "output_type": "display_data"
    }
   ],
   "source": [
    "fig, ax = plt.subplots(figsize = (10,7))\n",
    "\n",
    "print(df[\"Education qualification\"].value_counts())\n",
    "plt.pie(df[\"Education qualification\"].value_counts(), labels = [\"Graduate\", \"Post Graduate\", \"12th\", \"Doctorate\", \"10th\"], autopct = \"%.2f\")\n",
    "plt.show()"
   ]
  },
  {
   "cell_type": "code",
   "execution_count": 48,
   "id": "45fe10a7",
   "metadata": {
    "ExecuteTime": {
     "end_time": "2022-09-29T10:33:32.737333Z",
     "start_time": "2022-09-29T10:33:32.724336Z"
    }
   },
   "outputs": [
    {
     "data": {
      "text/plain": [
       "array([20000.0, 1000.0, 2000.0, 3555.0, 0.0, 500.0, 90000.0, 10000.0,\n",
       "       5000.0, 'None', 12000.0, 100000.0, 6000.0, 3000.0, '2000 rs',\n",
       "       'Zero', 50000.0, 1500.0, nan], dtype=object)"
      ]
     },
     "execution_count": 48,
     "metadata": {},
     "output_type": "execute_result"
    }
   ],
   "source": [
    "df[\"Opening Balance\"].unique()"
   ]
  },
  {
   "cell_type": "code",
   "execution_count": 49,
   "id": "90aea20e",
   "metadata": {
    "ExecuteTime": {
     "end_time": "2022-09-29T10:33:32.769337Z",
     "start_time": "2022-09-29T10:33:32.740336Z"
    }
   },
   "outputs": [],
   "source": [
    "df = df.fillna(0)\n"
   ]
  },
  {
   "cell_type": "code",
   "execution_count": 50,
   "id": "5452204c",
   "metadata": {
    "ExecuteTime": {
     "end_time": "2022-09-29T10:33:32.785343Z",
     "start_time": "2022-09-29T10:33:32.774340Z"
    }
   },
   "outputs": [
    {
     "data": {
      "text/plain": [
       "array([20000.0, 1000.0, 2000.0, 3555.0, 0.0, 500.0, 90000.0, 10000.0,\n",
       "       5000.0, 'None', 12000.0, 100000.0, 6000.0, 3000.0, '2000 rs',\n",
       "       'Zero', 50000.0, 1500.0], dtype=object)"
      ]
     },
     "execution_count": 50,
     "metadata": {},
     "output_type": "execute_result"
    }
   ],
   "source": [
    "df[\"Opening Balance\"].unique()"
   ]
  },
  {
   "cell_type": "code",
   "execution_count": 51,
   "id": "b5a5b4f1",
   "metadata": {
    "ExecuteTime": {
     "end_time": "2022-09-29T10:33:32.817375Z",
     "start_time": "2022-09-29T10:33:32.788343Z"
    }
   },
   "outputs": [],
   "source": [
    "df = df.replace('Zero', 0.0)\n",
    "df = df.replace('None', 0.0)\n",
    "\n",
    "df = df.replace('2000 rs', 2000.0)"
   ]
  },
  {
   "cell_type": "code",
   "execution_count": 52,
   "id": "63edb657",
   "metadata": {
    "ExecuteTime": {
     "end_time": "2022-09-29T10:33:32.832366Z",
     "start_time": "2022-09-29T10:33:32.819365Z"
    }
   },
   "outputs": [
    {
     "data": {
      "text/plain": [
       "array([500.0, 6000.0, 1000.0, '000000', 205.0, 70000.0, 1500.0, 300.0,\n",
       "       27.0, '*', 10000.0, 5000.0, 25000.0, 2500.0, 630.0, 240.0, 200.0,\n",
       "       2000.0, 20000.0, 12000.0, '008909', 200000.0, 16500.0, 50500.0,\n",
       "       -51.0, 10.0, 250.0, 45000.0, '-', 15000.0, 100.0, 75000.0, 16250.0,\n",
       "       '13.7k', 40000.0, 3000.0, 150000.0, 100000.0, 503023.0, 30000.0,\n",
       "       4000.0, 600.0, 320.0, 750.0, 120.0, 890.0, 68.0, 1200.0, 500000.0,\n",
       "       20.0, 3500.0, 201.0, 623.0, 0], dtype=object)"
      ]
     },
     "execution_count": 52,
     "metadata": {},
     "output_type": "execute_result"
    }
   ],
   "source": [
    "df[\"Current Balance\"].unique()"
   ]
  },
  {
   "cell_type": "code",
   "execution_count": 53,
   "id": "87235e54",
   "metadata": {
    "ExecuteTime": {
     "end_time": "2022-09-29T10:33:32.864375Z",
     "start_time": "2022-09-29T10:33:32.835370Z"
    }
   },
   "outputs": [],
   "source": [
    "df = df.replace('000000', 0)\n",
    "df = df.replace('*', 0)\n",
    "df = df.replace('008909', 8909)\n",
    "df = df.replace('-', 0)\n",
    "df = df.replace('13.7k', 13700)\n",
    "df = df.replace('2000 rs', 2000.0)"
   ]
  },
  {
   "cell_type": "code",
   "execution_count": 54,
   "id": "b6e0237b",
   "metadata": {
    "ExecuteTime": {
     "end_time": "2022-09-29T10:33:32.880377Z",
     "start_time": "2022-09-29T10:33:32.867376Z"
    }
   },
   "outputs": [
    {
     "data": {
      "text/plain": [
       "array([ 5.00000e+02,  6.00000e+03,  1.00000e+03,  0.00000e+00,\n",
       "        2.05000e+02,  7.00000e+04,  1.50000e+03,  3.00000e+02,\n",
       "        2.70000e+01,  1.00000e+04,  5.00000e+03,  2.50000e+04,\n",
       "        2.50000e+03,  6.30000e+02,  2.40000e+02,  2.00000e+02,\n",
       "        2.00000e+03,  2.00000e+04,  1.20000e+04,  8.90900e+03,\n",
       "        2.00000e+05,  1.65000e+04,  5.05000e+04, -5.10000e+01,\n",
       "        1.00000e+01,  2.50000e+02,  4.50000e+04,  1.50000e+04,\n",
       "        1.00000e+02,  7.50000e+04,  1.62500e+04,  1.37000e+04,\n",
       "        4.00000e+04,  3.00000e+03,  1.50000e+05,  1.00000e+05,\n",
       "        5.03023e+05,  3.00000e+04,  4.00000e+03,  6.00000e+02,\n",
       "        3.20000e+02,  7.50000e+02,  1.20000e+02,  8.90000e+02,\n",
       "        6.80000e+01,  1.20000e+03,  5.00000e+05,  2.00000e+01,\n",
       "        3.50000e+03,  2.01000e+02,  6.23000e+02])"
      ]
     },
     "execution_count": 54,
     "metadata": {},
     "output_type": "execute_result"
    }
   ],
   "source": [
    "df[\"Current Balance\"].unique()"
   ]
  },
  {
   "cell_type": "code",
   "execution_count": 55,
   "id": "a5197d47",
   "metadata": {
    "ExecuteTime": {
     "end_time": "2022-09-29T10:33:43.230378Z",
     "start_time": "2022-09-29T10:33:43.204353Z"
    }
   },
   "outputs": [
    {
     "data": {
      "text/html": [
       "<div>\n",
       "<style scoped>\n",
       "    .dataframe tbody tr th:only-of-type {\n",
       "        vertical-align: middle;\n",
       "    }\n",
       "\n",
       "    .dataframe tbody tr th {\n",
       "        vertical-align: top;\n",
       "    }\n",
       "\n",
       "    .dataframe thead th {\n",
       "        text-align: right;\n",
       "    }\n",
       "</style>\n",
       "<table border=\"1\" class=\"dataframe\">\n",
       "  <thead>\n",
       "    <tr style=\"text-align: right;\">\n",
       "      <th></th>\n",
       "      <th>Timestamp</th>\n",
       "      <th>Score</th>\n",
       "      <th>Name</th>\n",
       "      <th>Gender</th>\n",
       "      <th>Age</th>\n",
       "      <th>Education qualification</th>\n",
       "      <th>Occupation</th>\n",
       "      <th>If  Other  then Please Specify</th>\n",
       "      <th>Account NO(not manadatory to disclose)</th>\n",
       "      <th>Account Type</th>\n",
       "      <th>...</th>\n",
       "      <th>Do you have active Credit Card with this account</th>\n",
       "      <th>Did any suspicious transaction reported in your account</th>\n",
       "      <th>Have you ever defaulted any loan payment</th>\n",
       "      <th>Are you satisfied with the service provided by bank</th>\n",
       "      <th>Current Status of your accounts</th>\n",
       "      <th>Please suggest if any important performance indicator is missing from the above</th>\n",
       "      <th>If Yes then Please Specify</th>\n",
       "      <th>Received any service call from bank  in 24 month with reference to  your account.</th>\n",
       "      <th>if Other Account then Please Specify</th>\n",
       "      <th>Transaction done in 24 month</th>\n",
       "    </tr>\n",
       "  </thead>\n",
       "  <tbody>\n",
       "    <tr>\n",
       "      <th>5</th>\n",
       "      <td>2021-03-11 18:14:07.756</td>\n",
       "      <td>0.0</td>\n",
       "      <td>Kartheek</td>\n",
       "      <td>Male</td>\n",
       "      <td>30.0</td>\n",
       "      <td>Post Graduate</td>\n",
       "      <td>Salaried</td>\n",
       "      <td>0</td>\n",
       "      <td>0000000</td>\n",
       "      <td>Salaried</td>\n",
       "      <td>...</td>\n",
       "      <td>Debit Card</td>\n",
       "      <td>No</td>\n",
       "      <td>No</td>\n",
       "      <td>yes</td>\n",
       "      <td>Active</td>\n",
       "      <td>0</td>\n",
       "      <td>0</td>\n",
       "      <td>0</td>\n",
       "      <td>0</td>\n",
       "      <td>0</td>\n",
       "    </tr>\n",
       "    <tr>\n",
       "      <th>10</th>\n",
       "      <td>2021-03-11 22:12:23.642</td>\n",
       "      <td>0.0</td>\n",
       "      <td>Rishabh Singh</td>\n",
       "      <td>Male</td>\n",
       "      <td>22.0</td>\n",
       "      <td>Graduate</td>\n",
       "      <td>Student</td>\n",
       "      <td>0</td>\n",
       "      <td>0</td>\n",
       "      <td>Savings</td>\n",
       "      <td>...</td>\n",
       "      <td>No</td>\n",
       "      <td>No</td>\n",
       "      <td>No</td>\n",
       "      <td>yes</td>\n",
       "      <td>Active</td>\n",
       "      <td>0</td>\n",
       "      <td>Balance Transfer</td>\n",
       "      <td>No</td>\n",
       "      <td>0</td>\n",
       "      <td>0</td>\n",
       "    </tr>\n",
       "    <tr>\n",
       "      <th>11</th>\n",
       "      <td>2021-03-11 22:19:33.229</td>\n",
       "      <td>0.0</td>\n",
       "      <td>Lokesh Wadhwa</td>\n",
       "      <td>Male</td>\n",
       "      <td>29.0</td>\n",
       "      <td>Post Graduate</td>\n",
       "      <td>Salaried</td>\n",
       "      <td>0</td>\n",
       "      <td>0</td>\n",
       "      <td>Savings</td>\n",
       "      <td>...</td>\n",
       "      <td>No</td>\n",
       "      <td>No</td>\n",
       "      <td>No</td>\n",
       "      <td>yes</td>\n",
       "      <td>Active</td>\n",
       "      <td>0</td>\n",
       "      <td>Withdrawal</td>\n",
       "      <td>Yes</td>\n",
       "      <td>0</td>\n",
       "      <td>0</td>\n",
       "    </tr>\n",
       "    <tr>\n",
       "      <th>30</th>\n",
       "      <td>2021-03-12 12:58:41.494</td>\n",
       "      <td>0.0</td>\n",
       "      <td>adarsh</td>\n",
       "      <td>Male</td>\n",
       "      <td>22.0</td>\n",
       "      <td>Graduate</td>\n",
       "      <td>Student</td>\n",
       "      <td>saving account</td>\n",
       "      <td>724185292629.0</td>\n",
       "      <td>Savings</td>\n",
       "      <td>...</td>\n",
       "      <td>No</td>\n",
       "      <td>No</td>\n",
       "      <td>No</td>\n",
       "      <td>yes</td>\n",
       "      <td>Active</td>\n",
       "      <td>0</td>\n",
       "      <td>Withdrawal</td>\n",
       "      <td>No</td>\n",
       "      <td>0</td>\n",
       "      <td>Yes</td>\n",
       "    </tr>\n",
       "    <tr>\n",
       "      <th>31</th>\n",
       "      <td>2021-03-12 14:41:52.780</td>\n",
       "      <td>0.0</td>\n",
       "      <td>Mohammed shanawaz anwar</td>\n",
       "      <td>Male</td>\n",
       "      <td>23.0</td>\n",
       "      <td>Graduate</td>\n",
       "      <td>Student</td>\n",
       "      <td>0</td>\n",
       "      <td>0</td>\n",
       "      <td>Savings</td>\n",
       "      <td>...</td>\n",
       "      <td>No</td>\n",
       "      <td>No</td>\n",
       "      <td>No</td>\n",
       "      <td>Need Improvement</td>\n",
       "      <td>Active</td>\n",
       "      <td>0</td>\n",
       "      <td>All  of the above</td>\n",
       "      <td>No</td>\n",
       "      <td>0</td>\n",
       "      <td>Yes</td>\n",
       "    </tr>\n",
       "    <tr>\n",
       "      <th>34</th>\n",
       "      <td>2021-03-12 18:50:33.042</td>\n",
       "      <td>0.0</td>\n",
       "      <td>Nano</td>\n",
       "      <td>Male</td>\n",
       "      <td>27.0</td>\n",
       "      <td>Graduate</td>\n",
       "      <td>Student</td>\n",
       "      <td>0</td>\n",
       "      <td>0</td>\n",
       "      <td>Savings</td>\n",
       "      <td>...</td>\n",
       "      <td>Yes</td>\n",
       "      <td>Yes</td>\n",
       "      <td>No</td>\n",
       "      <td>yes</td>\n",
       "      <td>Dormant( not active since last 24 month)</td>\n",
       "      <td>0</td>\n",
       "      <td>0</td>\n",
       "      <td>No</td>\n",
       "      <td>0</td>\n",
       "      <td>No</td>\n",
       "    </tr>\n",
       "    <tr>\n",
       "      <th>55</th>\n",
       "      <td>2021-03-12 20:27:11.653</td>\n",
       "      <td>0.0</td>\n",
       "      <td>Nano</td>\n",
       "      <td>Male</td>\n",
       "      <td>27.0</td>\n",
       "      <td>Graduate</td>\n",
       "      <td>Student</td>\n",
       "      <td>0</td>\n",
       "      <td>0</td>\n",
       "      <td>Savings</td>\n",
       "      <td>...</td>\n",
       "      <td>Yes</td>\n",
       "      <td>Yes</td>\n",
       "      <td>No</td>\n",
       "      <td>yes</td>\n",
       "      <td>Dormant( not active since last 24 month)</td>\n",
       "      <td>0</td>\n",
       "      <td>0</td>\n",
       "      <td>No</td>\n",
       "      <td>0</td>\n",
       "      <td>No</td>\n",
       "    </tr>\n",
       "    <tr>\n",
       "      <th>71</th>\n",
       "      <td>2021-03-13 16:40:38.271</td>\n",
       "      <td>0.0</td>\n",
       "      <td>B N SRINIVAS</td>\n",
       "      <td>Male</td>\n",
       "      <td>22.0</td>\n",
       "      <td>Graduate</td>\n",
       "      <td>Student</td>\n",
       "      <td>0</td>\n",
       "      <td>0</td>\n",
       "      <td>Savings</td>\n",
       "      <td>...</td>\n",
       "      <td>No</td>\n",
       "      <td>No</td>\n",
       "      <td>No</td>\n",
       "      <td>Need Improvement</td>\n",
       "      <td>Active</td>\n",
       "      <td>0</td>\n",
       "      <td>All  of the above</td>\n",
       "      <td>No</td>\n",
       "      <td>0</td>\n",
       "      <td>Yes</td>\n",
       "    </tr>\n",
       "    <tr>\n",
       "      <th>76</th>\n",
       "      <td>2021-03-14 00:06:15.266</td>\n",
       "      <td>0.0</td>\n",
       "      <td>basavaraj</td>\n",
       "      <td>Male</td>\n",
       "      <td>23.0</td>\n",
       "      <td>Graduate</td>\n",
       "      <td>Farmer</td>\n",
       "      <td>0</td>\n",
       "      <td>383837373781.0</td>\n",
       "      <td>New Frill  Account</td>\n",
       "      <td>...</td>\n",
       "      <td>No</td>\n",
       "      <td>No</td>\n",
       "      <td>No</td>\n",
       "      <td>No</td>\n",
       "      <td>Dormant( not active since last 24 month)</td>\n",
       "      <td>0</td>\n",
       "      <td>Withdrawal</td>\n",
       "      <td>Yes</td>\n",
       "      <td>0</td>\n",
       "      <td>No</td>\n",
       "    </tr>\n",
       "    <tr>\n",
       "      <th>82</th>\n",
       "      <td>2021-03-14 19:56:37.105</td>\n",
       "      <td>0.0</td>\n",
       "      <td>Brijesh Mallah</td>\n",
       "      <td>Male</td>\n",
       "      <td>43.0</td>\n",
       "      <td>10th</td>\n",
       "      <td>Farmer</td>\n",
       "      <td>0</td>\n",
       "      <td>2287365845.0</td>\n",
       "      <td>Other</td>\n",
       "      <td>...</td>\n",
       "      <td>No</td>\n",
       "      <td>No</td>\n",
       "      <td>Yes</td>\n",
       "      <td>Need Improvement</td>\n",
       "      <td>Dormant( not active since last 24 month)</td>\n",
       "      <td>0</td>\n",
       "      <td>0</td>\n",
       "      <td>No</td>\n",
       "      <td>SBManrega</td>\n",
       "      <td>No</td>\n",
       "    </tr>\n",
       "    <tr>\n",
       "      <th>88</th>\n",
       "      <td>2021-03-14 19:24:40.000</td>\n",
       "      <td>0.0</td>\n",
       "      <td>Ridhi Kumari</td>\n",
       "      <td>Female</td>\n",
       "      <td>36.0</td>\n",
       "      <td>Graduate</td>\n",
       "      <td>Salaried</td>\n",
       "      <td>0</td>\n",
       "      <td>0</td>\n",
       "      <td>0</td>\n",
       "      <td>...</td>\n",
       "      <td>No</td>\n",
       "      <td>No</td>\n",
       "      <td>No</td>\n",
       "      <td>0</td>\n",
       "      <td>Dormant( not active since last 24 month)</td>\n",
       "      <td>0</td>\n",
       "      <td>0</td>\n",
       "      <td>No</td>\n",
       "      <td>0</td>\n",
       "      <td>No</td>\n",
       "    </tr>\n",
       "  </tbody>\n",
       "</table>\n",
       "<p>11 rows × 34 columns</p>\n",
       "</div>"
      ],
      "text/plain": [
       "                 Timestamp  Score                     Name  Gender   Age  \\\n",
       "5  2021-03-11 18:14:07.756    0.0                Kartheek     Male  30.0   \n",
       "10 2021-03-11 22:12:23.642    0.0            Rishabh Singh    Male  22.0   \n",
       "11 2021-03-11 22:19:33.229    0.0            Lokesh Wadhwa    Male  29.0   \n",
       "30 2021-03-12 12:58:41.494    0.0                   adarsh    Male  22.0   \n",
       "31 2021-03-12 14:41:52.780    0.0  Mohammed shanawaz anwar    Male  23.0   \n",
       "34 2021-03-12 18:50:33.042    0.0                     Nano    Male  27.0   \n",
       "55 2021-03-12 20:27:11.653    0.0                     Nano    Male  27.0   \n",
       "71 2021-03-13 16:40:38.271    0.0             B N SRINIVAS    Male  22.0   \n",
       "76 2021-03-14 00:06:15.266    0.0                basavaraj    Male  23.0   \n",
       "82 2021-03-14 19:56:37.105    0.0           Brijesh Mallah    Male  43.0   \n",
       "88 2021-03-14 19:24:40.000    0.0             Ridhi Kumari  Female  36.0   \n",
       "\n",
       "   Education qualification Occupation If  Other  then Please Specify  \\\n",
       "5            Post Graduate   Salaried                              0   \n",
       "10                Graduate    Student                              0   \n",
       "11           Post Graduate   Salaried                              0   \n",
       "30                Graduate    Student                 saving account   \n",
       "31                Graduate    Student                              0   \n",
       "34                Graduate    Student                              0   \n",
       "55                Graduate    Student                              0   \n",
       "71                Graduate    Student                              0   \n",
       "76                Graduate     Farmer                              0   \n",
       "82                    10th     Farmer                              0   \n",
       "88                Graduate   Salaried                              0   \n",
       "\n",
       "   Account NO(not manadatory to disclose)        Account Type  ...  \\\n",
       "5                                 0000000           Salaried   ...   \n",
       "10                                      0             Savings  ...   \n",
       "11                                      0             Savings  ...   \n",
       "30                         724185292629.0             Savings  ...   \n",
       "31                                      0             Savings  ...   \n",
       "34                                      0             Savings  ...   \n",
       "55                                      0             Savings  ...   \n",
       "71                                      0             Savings  ...   \n",
       "76                         383837373781.0  New Frill  Account  ...   \n",
       "82                           2287365845.0               Other  ...   \n",
       "88                                      0                   0  ...   \n",
       "\n",
       "   Do you have active Credit Card with this account  \\\n",
       "5                                        Debit Card   \n",
       "10                                               No   \n",
       "11                                               No   \n",
       "30                                               No   \n",
       "31                                               No   \n",
       "34                                              Yes   \n",
       "55                                              Yes   \n",
       "71                                               No   \n",
       "76                                               No   \n",
       "82                                               No   \n",
       "88                                               No   \n",
       "\n",
       "   Did any suspicious transaction reported in your account  \\\n",
       "5                                                  No        \n",
       "10                                                 No        \n",
       "11                                                 No        \n",
       "30                                                 No        \n",
       "31                                                 No        \n",
       "34                                                Yes        \n",
       "55                                                Yes        \n",
       "71                                                 No        \n",
       "76                                                 No        \n",
       "82                                                 No        \n",
       "88                                                 No        \n",
       "\n",
       "   Have you ever defaulted any loan payment  \\\n",
       "5                                        No   \n",
       "10                                       No   \n",
       "11                                       No   \n",
       "30                                       No   \n",
       "31                                       No   \n",
       "34                                       No   \n",
       "55                                       No   \n",
       "71                                       No   \n",
       "76                                       No   \n",
       "82                                      Yes   \n",
       "88                                       No   \n",
       "\n",
       "   Are you satisfied with the service provided by bank  \\\n",
       "5                                                 yes    \n",
       "10                                                yes    \n",
       "11                                                yes    \n",
       "30                                                yes    \n",
       "31                                   Need Improvement    \n",
       "34                                                yes    \n",
       "55                                                yes    \n",
       "71                                   Need Improvement    \n",
       "76                                                 No    \n",
       "82                                   Need Improvement    \n",
       "88                                                  0    \n",
       "\n",
       "             Current Status of your accounts  \\\n",
       "5                                     Active   \n",
       "10                                    Active   \n",
       "11                                    Active   \n",
       "30                                    Active   \n",
       "31                                    Active   \n",
       "34  Dormant( not active since last 24 month)   \n",
       "55  Dormant( not active since last 24 month)   \n",
       "71                                    Active   \n",
       "76  Dormant( not active since last 24 month)   \n",
       "82  Dormant( not active since last 24 month)   \n",
       "88  Dormant( not active since last 24 month)   \n",
       "\n",
       "   Please suggest if any important performance indicator is missing from the above  \\\n",
       "5                                                   0                                \n",
       "10                                                  0                                \n",
       "11                                                  0                                \n",
       "30                                                  0                                \n",
       "31                                                  0                                \n",
       "34                                                  0                                \n",
       "55                                                  0                                \n",
       "71                                                  0                                \n",
       "76                                                  0                                \n",
       "82                                                  0                                \n",
       "88                                                  0                                \n",
       "\n",
       "    If Yes then Please Specify  \\\n",
       "5                            0   \n",
       "10            Balance Transfer   \n",
       "11                  Withdrawal   \n",
       "30                  Withdrawal   \n",
       "31           All  of the above   \n",
       "34                           0   \n",
       "55                           0   \n",
       "71           All  of the above   \n",
       "76                  Withdrawal   \n",
       "82                           0   \n",
       "88                           0   \n",
       "\n",
       "   Received any service call from bank  in 24 month with reference to  your account.  \\\n",
       "5                                                   0                                  \n",
       "10                                                 No                                  \n",
       "11                                                Yes                                  \n",
       "30                                                 No                                  \n",
       "31                                                 No                                  \n",
       "34                                                 No                                  \n",
       "55                                                 No                                  \n",
       "71                                                 No                                  \n",
       "76                                                Yes                                  \n",
       "82                                                 No                                  \n",
       "88                                                 No                                  \n",
       "\n",
       "   if Other Account then Please Specify  Transaction done in 24 month  \n",
       "5                                     0                             0  \n",
       "10                                    0                             0  \n",
       "11                                    0                             0  \n",
       "30                                    0                           Yes  \n",
       "31                                    0                           Yes  \n",
       "34                                    0                            No  \n",
       "55                                    0                            No  \n",
       "71                                    0                           Yes  \n",
       "76                                    0                            No  \n",
       "82                            SBManrega                            No  \n",
       "88                                    0                            No  \n",
       "\n",
       "[11 rows x 34 columns]"
      ]
     },
     "execution_count": 55,
     "metadata": {},
     "output_type": "execute_result"
    }
   ],
   "source": [
    "df[df[\"Current Balance\"] < 100]                 "
   ]
  },
  {
   "cell_type": "code",
   "execution_count": 56,
   "id": "80fd9379",
   "metadata": {},
   "outputs": [
    {
     "data": {
      "image/png": "[encoded data removed]",
      "text/plain": [
       "<Figure size 432x288 with 1 Axes>"
      ]
     },
     "metadata": {},
     "output_type": "display_data"
    }
   ],
   "source": [
    "total=df[' Transaction done in 24 month'].isnull().sum()+df[' Transaction done in 24 month'].count()\n",
    "no=(df[df[' Transaction done in 24 month']=='No'][' Transaction done in 24 month'].count()/total)*100\n",
    "yes=(df[df[' Transaction done in 24 month']=='Yes'][' Transaction done in 24 month'].count()/total)*100\n",
    "null=(df[' Transaction done in 24 month'].isnull().sum()/total)*100\n",
    "\n",
    "data=[yes,no,null]\n",
    "label=['Yes','No','Others']\n",
    "plt.pie(data,labels=label,shadow=True,explode=[.1,0,0], startangle=-90, autopct='%1.1f%%')\n",
    "plt.title(\"How many Percent People have done Transaction in 24 month\")\n",
    "plt.legend()\n",
    "plt.show()"
   ]
  },
  {
   "cell_type": "code",
   "execution_count": 57,
   "id": "393f80a8",
   "metadata": {},
   "outputs": [
    {
     "data": {
      "text/html": [
       "<div>\n",
       "<style scoped>\n",
       "    .dataframe tbody tr th:only-of-type {\n",
       "        vertical-align: middle;\n",
       "    }\n",
       "\n",
       "    .dataframe tbody tr th {\n",
       "        vertical-align: top;\n",
       "    }\n",
       "\n",
       "    .dataframe thead th {\n",
       "        text-align: right;\n",
       "    }\n",
       "</style>\n",
       "<table border=\"1\" class=\"dataframe\">\n",
       "  <thead>\n",
       "    <tr style=\"text-align: right;\">\n",
       "      <th></th>\n",
       "      <th>Timestamp</th>\n",
       "      <th>Score</th>\n",
       "      <th>Name</th>\n",
       "      <th>Age</th>\n",
       "      <th>Education qualification</th>\n",
       "      <th>Occupation</th>\n",
       "      <th>If  Other  then Please Specify</th>\n",
       "      <th>Account NO(not manadatory to disclose)</th>\n",
       "      <th>Account Type</th>\n",
       "      <th>City</th>\n",
       "      <th>...</th>\n",
       "      <th>Did any suspicious transaction reported in your account</th>\n",
       "      <th>Have you ever defaulted any loan payment</th>\n",
       "      <th>Are you satisfied with the service provided by bank</th>\n",
       "      <th>Current Status of your accounts</th>\n",
       "      <th>Please suggest if any important performance indicator is missing from the above</th>\n",
       "      <th>If Yes then Please Specify</th>\n",
       "      <th>Received any service call from bank  in 24 month with reference to  your account.</th>\n",
       "      <th>if Other Account then Please Specify</th>\n",
       "      <th>Transaction done in 24 month</th>\n",
       "      <th>Male</th>\n",
       "    </tr>\n",
       "  </thead>\n",
       "  <tbody>\n",
       "    <tr>\n",
       "      <th>0</th>\n",
       "      <td>2021-03-11 12:38:22.586</td>\n",
       "      <td>0.0</td>\n",
       "      <td>Karuna</td>\n",
       "      <td>26.0</td>\n",
       "      <td>Graduate</td>\n",
       "      <td>Student</td>\n",
       "      <td>0</td>\n",
       "      <td>23307890.0</td>\n",
       "      <td>Current</td>\n",
       "      <td>Bangalore</td>\n",
       "      <td>...</td>\n",
       "      <td>No</td>\n",
       "      <td>No</td>\n",
       "      <td>No</td>\n",
       "      <td>Inactive( not active since last 12 month)</td>\n",
       "      <td>Due to distance and no branch near by</td>\n",
       "      <td>0</td>\n",
       "      <td>0</td>\n",
       "      <td>0</td>\n",
       "      <td>0</td>\n",
       "      <td>0</td>\n",
       "    </tr>\n",
       "    <tr>\n",
       "      <th>1</th>\n",
       "      <td>2021-03-11 13:40:07.626</td>\n",
       "      <td>0.0</td>\n",
       "      <td>Punith Kumar</td>\n",
       "      <td>27.0</td>\n",
       "      <td>Post Graduate</td>\n",
       "      <td>Salaried</td>\n",
       "      <td>0</td>\n",
       "      <td>1234975308642.0</td>\n",
       "      <td>Savings</td>\n",
       "      <td>Bangalore</td>\n",
       "      <td>...</td>\n",
       "      <td>No</td>\n",
       "      <td>No</td>\n",
       "      <td>No</td>\n",
       "      <td>Dormant( not active since last 24 month)</td>\n",
       "      <td>After relocating to a different place, Changin...</td>\n",
       "      <td>0</td>\n",
       "      <td>0</td>\n",
       "      <td>0</td>\n",
       "      <td>0</td>\n",
       "      <td>1</td>\n",
       "    </tr>\n",
       "    <tr>\n",
       "      <th>2</th>\n",
       "      <td>2021-03-11 13:51:01.431</td>\n",
       "      <td>0.0</td>\n",
       "      <td>Vijay</td>\n",
       "      <td>56.0</td>\n",
       "      <td>Graduate</td>\n",
       "      <td>Salaried</td>\n",
       "      <td>0</td>\n",
       "      <td>362961593751.0</td>\n",
       "      <td>saving</td>\n",
       "      <td>Bidar</td>\n",
       "      <td>...</td>\n",
       "      <td>Yes</td>\n",
       "      <td>No</td>\n",
       "      <td>yes</td>\n",
       "      <td>Active</td>\n",
       "      <td>0</td>\n",
       "      <td>0</td>\n",
       "      <td>0</td>\n",
       "      <td>0</td>\n",
       "      <td>0</td>\n",
       "      <td>1</td>\n",
       "    </tr>\n",
       "    <tr>\n",
       "      <th>3</th>\n",
       "      <td>2021-03-11 14:06:49.086</td>\n",
       "      <td>0.0</td>\n",
       "      <td>vijay</td>\n",
       "      <td>55.0</td>\n",
       "      <td>Graduate</td>\n",
       "      <td>Student</td>\n",
       "      <td>0</td>\n",
       "      <td>726261915262.0</td>\n",
       "      <td>saving</td>\n",
       "      <td>Bidar</td>\n",
       "      <td>...</td>\n",
       "      <td>Yes</td>\n",
       "      <td>No</td>\n",
       "      <td>yes</td>\n",
       "      <td>Active</td>\n",
       "      <td>0</td>\n",
       "      <td>0</td>\n",
       "      <td>0</td>\n",
       "      <td>0</td>\n",
       "      <td>0</td>\n",
       "      <td>1</td>\n",
       "    </tr>\n",
       "    <tr>\n",
       "      <th>4</th>\n",
       "      <td>2021-03-11 17:26:10.122</td>\n",
       "      <td>0.0</td>\n",
       "      <td>Ankit Kumar Sinha</td>\n",
       "      <td>26.0</td>\n",
       "      <td>Graduate</td>\n",
       "      <td>Student</td>\n",
       "      <td>0</td>\n",
       "      <td>210000000000.0</td>\n",
       "      <td>Saving</td>\n",
       "      <td>Bengaluru</td>\n",
       "      <td>...</td>\n",
       "      <td>No</td>\n",
       "      <td>No</td>\n",
       "      <td>yes</td>\n",
       "      <td>Active</td>\n",
       "      <td>Good</td>\n",
       "      <td>0</td>\n",
       "      <td>0</td>\n",
       "      <td>0</td>\n",
       "      <td>0</td>\n",
       "      <td>1</td>\n",
       "    </tr>\n",
       "  </tbody>\n",
       "</table>\n",
       "<p>5 rows × 34 columns</p>\n",
       "</div>"
      ],
      "text/plain": [
       "                Timestamp  Score               Name   Age  \\\n",
       "0 2021-03-11 12:38:22.586    0.0             Karuna  26.0   \n",
       "1 2021-03-11 13:40:07.626    0.0       Punith Kumar  27.0   \n",
       "2 2021-03-11 13:51:01.431    0.0              Vijay  56.0   \n",
       "3 2021-03-11 14:06:49.086    0.0              vijay  55.0   \n",
       "4 2021-03-11 17:26:10.122    0.0  Ankit Kumar Sinha  26.0   \n",
       "\n",
       "  Education qualification Occupation If  Other  then Please Specify  \\\n",
       "0                Graduate    Student                              0   \n",
       "1           Post Graduate   Salaried                              0   \n",
       "2                Graduate   Salaried                              0   \n",
       "3                Graduate    Student                              0   \n",
       "4                Graduate    Student                              0   \n",
       "\n",
       "  Account NO(not manadatory to disclose) Account Type        City  ...  \\\n",
       "0                             23307890.0     Current   Bangalore   ...   \n",
       "1                        1234975308642.0      Savings  Bangalore   ...   \n",
       "2                         362961593751.0       saving       Bidar  ...   \n",
       "3                         726261915262.0       saving       Bidar  ...   \n",
       "4                         210000000000.0       Saving   Bengaluru  ...   \n",
       "\n",
       "  Did any suspicious transaction reported in your account  \\\n",
       "0                                                 No        \n",
       "1                                                 No        \n",
       "2                                                Yes        \n",
       "3                                                Yes        \n",
       "4                                                 No        \n",
       "\n",
       "  Have you ever defaulted any loan payment  \\\n",
       "0                                       No   \n",
       "1                                       No   \n",
       "2                                       No   \n",
       "3                                       No   \n",
       "4                                       No   \n",
       "\n",
       "  Are you satisfied with the service provided by bank  \\\n",
       "0                                                 No    \n",
       "1                                                 No    \n",
       "2                                                yes    \n",
       "3                                                yes    \n",
       "4                                                yes    \n",
       "\n",
       "             Current Status of your accounts  \\\n",
       "0  Inactive( not active since last 12 month)   \n",
       "1   Dormant( not active since last 24 month)   \n",
       "2                                     Active   \n",
       "3                                     Active   \n",
       "4                                     Active   \n",
       "\n",
       "  Please suggest if any important performance indicator is missing from the above  \\\n",
       "0              Due to distance and no branch near by                                \n",
       "1  After relocating to a different place, Changin...                                \n",
       "2                                                  0                                \n",
       "3                                                  0                                \n",
       "4                                               Good                                \n",
       "\n",
       "   If Yes then Please Specify  \\\n",
       "0                           0   \n",
       "1                           0   \n",
       "2                           0   \n",
       "3                           0   \n",
       "4                           0   \n",
       "\n",
       "  Received any service call from bank  in 24 month with reference to  your account.  \\\n",
       "0                                                  0                                  \n",
       "1                                                  0                                  \n",
       "2                                                  0                                  \n",
       "3                                                  0                                  \n",
       "4                                                  0                                  \n",
       "\n",
       "  if Other Account then Please Specify  Transaction done in 24 month Male  \n",
       "0                                    0                             0    0  \n",
       "1                                    0                             0    1  \n",
       "2                                    0                             0    1  \n",
       "3                                    0                             0    1  \n",
       "4                                    0                             0    1  \n",
       "\n",
       "[5 rows x 34 columns]"
      ]
     },
     "execution_count": 57,
     "metadata": {},
     "output_type": "execute_result"
    }
   ],
   "source": [
    "dummy=pd.get_dummies(df['Gender'])\n",
    "merged=pd.concat([df,dummy],axis=1)\n",
    "merged=merged.drop(['Female','Gender'],axis=1)\n",
    "\n",
    "# now finally dropping the fEMALE column because place where MALE value is 0 means that is a FEMale, so now we does't required it also gender beacause now we have done one hot encoding for the gender attribute.\n",
    "\n",
    "merged.head(5)"
   ]
  },
  {
   "cell_type": "code",
   "execution_count": null,
   "id": "21a0bef6",
   "metadata": {},
   "outputs": [],
   "source": []
  }
 ],
 "metadata": {
  "kernelspec": {
   "display_name": "Python 3 (ipykernel)",
   "language": "python",
   "name": "python3"
  },
  "language_info": {
   "codemirror_mode": {
    "name": "ipython",
    "version": 3
   },
   "file_extension": ".py",
   "mimetype": "text/x-python",
   "name": "python",
   "nbconvert_exporter": "python",
   "pygments_lexer": "ipython3",
   "version": "3.9.7"
  }
 },
 "nbformat": 4,
 "nbformat_minor": 5
}
